{
  "cells": [
    {
      "cell_type": "code",
      "execution_count": null,
      "id": "f5cc5ae1",
      "metadata": {
        "id": "f5cc5ae1"
      },
      "outputs": [],
      "source": [
        "# Data Loading and Numerical Operations\n",
        "import pandas as pd\n",
        "import numpy as np\n",
        "# Data Visualizations\n",
        "import matplotlib.pyplot as plt\n",
        "%matplotlib inline\n",
        "import seaborn as sns\n",
        "# Data Resampling\n",
        "from sklearn.utils import resample\n",
        "# Data Feature Selection\n",
        "from sklearn.feature_selection import SelectKBest\n",
        "from sklearn.feature_selection import chi2\n",
        "# Data Splitting\n",
        "from sklearn.model_selection import train_test_split\n",
        "# Data Scaling\n",
        "from sklearn.preprocessing import MinMaxScaler\n",
        "# Data Modeling\n",
        "from sklearn.linear_model import LogisticRegression\n",
        "from sklearn.neighbors import KNeighborsClassifier\n",
        "from sklearn.ensemble import RandomForestClassifier\n",
        "from sklearn.tree import DecisionTreeClassifier\n",
        "from sklearn.ensemble import GradientBoostingClassifier\n",
        "from sklearn.neural_network import MLPClassifier\n",
        "from sklearn.metrics import confusion_matrix, accuracy_score, roc_curve, classification_report\n",
        "# Hyperparameter Tuning\n",
        "from sklearn.model_selection import RandomizedSearchCV\n",
        "from sklearn.model_selection import GridSearchCV\n",
        "# Ensembling\n"
      ]
    },
    {
      "cell_type": "code",
      "execution_count": null,
      "id": "9b2d634e",
      "metadata": {
        "colab": {
          "base_uri": "https://localhost:8080/"
        },
        "id": "9b2d634e",
        "outputId": "0d7eb0af-778f-4fc8-ed63-80e93610e7c9"
      },
      "outputs": [
        {
          "data": {
            "text/plain": [
              "(3816, 19)"
            ]
          },
          "execution_count": 5,
          "metadata": {},
          "output_type": "execute_result"
        }
      ],
      "source": [
        "df= pd.read_csv(\"/content/Final Project Dataset (2).csv\") # Reading and converting the data into a pandas dataframe\n",
        "df.shape # Calculating the dimensions of the dataset"
      ]
    },
    {
      "cell_type": "code",
      "execution_count": null,
      "id": "2ee435e2",
      "metadata": {
        "colab": {
          "base_uri": "https://localhost:8080/"
        },
        "id": "2ee435e2",
        "outputId": "8fdde80f-9170-4e4f-daa4-04f8b38f5a2a"
      },
      "outputs": [
        {
          "data": {
            "text/plain": [
              "patientID             0\n",
              "male                  0\n",
              "age                   0\n",
              "education            93\n",
              "currentSmoker         0\n",
              "cigsPerDay         1975\n",
              "BPMeds               45\n",
              "prevalentStroke       0\n",
              "prevalentHyp          0\n",
              "diabetes              0\n",
              "totChol              47\n",
              "sysBP                 0\n",
              "diaBP                 0\n",
              "BMI                  19\n",
              "heartRate             1\n",
              "glucose             361\n",
              "TenYearCHD            0\n",
              "a1c                 361\n",
              "income                0\n",
              "dtype: int64"
            ]
          },
          "execution_count": 6,
          "metadata": {},
          "output_type": "execute_result"
        }
      ],
      "source": [
        "df.isnull().sum()"
      ]
    },
    {
      "cell_type": "code",
      "execution_count": null,
      "id": "a7bb0ba5",
      "metadata": {
        "colab": {
          "base_uri": "https://localhost:8080/"
        },
        "id": "a7bb0ba5",
        "outputId": "3a498298-e6f0-4099-c160-8251fb5e49c6"
      },
      "outputs": [
        {
          "name": "stdout",
          "output_type": "stream",
          "text": [
            "75.0\n"
          ]
        }
      ],
      "source": [
        "df.duplicated().sum()\n",
        "print((df[\"glucose\"].mode())[0])"
      ]
    },
    {
      "cell_type": "code",
      "execution_count": null,
      "id": "ce3e158a",
      "metadata": {
        "id": "ce3e158a"
      },
      "outputs": [],
      "source": [
        "df[\"glucose\"].fillna((df[\"glucose\"].mode())[0], inplace=True)"
      ]
    },
    {
      "cell_type": "code",
      "execution_count": null,
      "id": "ebfb5789",
      "metadata": {
        "colab": {
          "base_uri": "https://localhost:8080/"
        },
        "id": "ebfb5789",
        "outputId": "6c987699-4d55-4bfa-b95a-e07fe970aa80"
      },
      "outputs": [
        {
          "data": {
            "text/plain": [
              "patientID          0\n",
              "male               0\n",
              "age                0\n",
              "education          0\n",
              "currentSmoker      0\n",
              "cigsPerDay         0\n",
              "BPMeds             0\n",
              "prevalentStroke    0\n",
              "prevalentHyp       0\n",
              "diabetes           0\n",
              "totChol            0\n",
              "sysBP              0\n",
              "diaBP              0\n",
              "BMI                0\n",
              "heartRate          0\n",
              "glucose            0\n",
              "TenYearCHD         0\n",
              "a1c                0\n",
              "income             0\n",
              "dtype: int64"
            ]
          },
          "execution_count": 9,
          "metadata": {},
          "output_type": "execute_result"
        }
      ],
      "source": [
        "df.dropna(inplace=True)\n",
        "df.isnull().sum()"
      ]
    },
    {
      "cell_type": "code",
      "execution_count": null,
      "id": "9863787b",
      "metadata": {
        "colab": {
          "base_uri": "https://localhost:8080/"
        },
        "id": "9863787b",
        "outputId": "9ba40cb5-de28-4fc7-fdd0-f64a00d83732"
      },
      "outputs": [
        {
          "data": {
            "text/plain": [
              "6960.0"
            ]
          },
          "execution_count": 10,
          "metadata": {},
          "output_type": "execute_result"
        }
      ],
      "source": [
        "df['totChol'].max()"
      ]
    },
    {
      "cell_type": "code",
      "execution_count": null,
      "id": "94a4ae35",
      "metadata": {
        "colab": {
          "base_uri": "https://localhost:8080/"
        },
        "id": "94a4ae35",
        "outputId": "cadd5ff0-4fc2-49b3-f212-540274413e57",
        "scrolled": true
      },
      "outputs": [
        {
          "data": {
            "text/plain": [
              "230.0"
            ]
          },
          "execution_count": 11,
          "metadata": {},
          "output_type": "execute_result"
        }
      ],
      "source": [
        "df['sysBP'].max()"
      ]
    },
    {
      "cell_type": "code",
      "execution_count": null,
      "id": "ad20d0c8",
      "metadata": {
        "colab": {
          "base_uri": "https://localhost:8080/"
        },
        "id": "ad20d0c8",
        "outputId": "9937db62-a8dd-429f-d5fb-e6ea423349a5"
      },
      "outputs": [
        {
          "data": {
            "text/plain": [
              "(1591, 19)"
            ]
          },
          "execution_count": 12,
          "metadata": {},
          "output_type": "execute_result"
        }
      ],
      "source": [
        "df = df[df['totChol']<6960.0]\n",
        "df = df[df['sysBP']<230.0]\n",
        "df.shape"
      ]
    },
    {
      "cell_type": "code",
      "execution_count": null,
      "id": "027441a6",
      "metadata": {
        "colab": {
          "base_uri": "https://localhost:8080/",
          "height": 320
        },
        "id": "027441a6",
        "outputId": "65a32efc-5b30-4e5d-fdd9-5298e2bc1e36"
      },
      "outputs": [
        {
          "data": {
            "application/vnd.google.colaboratory.intrinsic+json": {
              "summary": "{\n  \"name\": \"df\",\n  \"rows\": 8,\n  \"fields\": [\n    {\n      \"column\": \"patientID\",\n      \"properties\": {\n        \"dtype\": \"number\",\n        \"std\": 339650.9260875099,\n        \"min\": 1591.0,\n        \"max\": 998914.0,\n        \"num_unique_values\": 8,\n        \"samples\": [\n          556430.4506599623,\n          558865.0,\n          1591.0\n        ],\n        \"semantic_type\": \"\",\n        \"description\": \"\"\n      }\n    },\n    {\n      \"column\": \"male\",\n      \"properties\": {\n        \"dtype\": \"number\",\n        \"std\": 562.2991052822365,\n        \"min\": 0.0,\n        \"max\": 1591.0,\n        \"num_unique_values\": 5,\n        \"samples\": [\n          0.5512256442489001,\n          1.0,\n          0.49752539203473567\n        ],\n        \"semantic_type\": \"\",\n        \"description\": \"\"\n      }\n    },\n    {\n      \"column\": \"age\",\n      \"properties\": {\n        \"dtype\": \"number\",\n        \"std\": 547.8020143507755,\n        \"min\": 8.023059467392175,\n        \"max\": 1591.0,\n        \"num_unique_values\": 8,\n        \"samples\": [\n          47.607165304839725,\n          46.0,\n          1591.0\n        ],\n        \"semantic_type\": \"\",\n        \"description\": \"\"\n      }\n    },\n    {\n      \"column\": \"education\",\n      \"properties\": {\n        \"dtype\": \"number\",\n        \"std\": 561.7971047820265,\n        \"min\": 1.0,\n        \"max\": 1591.0,\n        \"num_unique_values\": 7,\n        \"samples\": [\n          1591.0,\n          1.9899434318038969,\n          3.0\n        ],\n        \"semantic_type\": \"\",\n        \"description\": \"\"\n      }\n    },\n    {\n      \"column\": \"currentSmoker\",\n      \"properties\": {\n        \"dtype\": \"number\",\n        \"std\": 562.2005075720634,\n        \"min\": 0.0,\n        \"max\": 1591.0,\n        \"num_unique_values\": 3,\n        \"samples\": [\n          1591.0,\n          1.0,\n          0.0\n        ],\n        \"semantic_type\": \"\",\n        \"description\": \"\"\n      }\n    },\n    {\n      \"column\": \"cigsPerDay\",\n      \"properties\": {\n        \"dtype\": \"number\",\n        \"std\": 555.2905393346307,\n        \"min\": 1.0,\n        \"max\": 1591.0,\n        \"num_unique_values\": 7,\n        \"samples\": [\n          1591.0,\n          18.643620364550596,\n          20.0\n        ],\n        \"semantic_type\": \"\",\n        \"description\": \"\"\n      }\n    },\n    {\n      \"column\": \"BPMeds\",\n      \"properties\": {\n        \"dtype\": \"number\",\n        \"std\": 562.4449331974565,\n        \"min\": 0.0,\n        \"max\": 1591.0,\n        \"num_unique_values\": 5,\n        \"samples\": [\n          0.02011313639220616,\n          1.0,\n          0.14043145474363894\n        ],\n        \"semantic_type\": \"\",\n        \"description\": \"\"\n      }\n    },\n    {\n      \"column\": \"prevalentStroke\",\n      \"properties\": {\n        \"dtype\": \"number\",\n        \"std\": 562.4500572480142,\n        \"min\": 0.0,\n        \"max\": 1591.0,\n        \"num_unique_values\": 5,\n        \"samples\": [\n          0.0031426775612822125,\n          1.0,\n          0.05598902976664092\n        ],\n        \"semantic_type\": \"\",\n        \"description\": \"\"\n      }\n    },\n    {\n      \"column\": \"prevalentHyp\",\n      \"properties\": {\n        \"dtype\": \"number\",\n        \"std\": 562.3676689003996,\n        \"min\": 0.0,\n        \"max\": 1591.0,\n        \"num_unique_values\": 5,\n        \"samples\": [\n          0.25518541797611566,\n          1.0,\n          0.4361024635109421\n        ],\n        \"semantic_type\": \"\",\n        \"description\": \"\"\n      }\n    },\n    {\n      \"column\": \"diabetes\",\n      \"properties\": {\n        \"dtype\": \"number\",\n        \"std\": 562.4455099304236,\n        \"min\": 0.0,\n        \"max\": 1591.0,\n        \"num_unique_values\": 5,\n        \"samples\": [\n          0.01759899434318039,\n          1.0,\n          0.13153000986787525\n        ],\n        \"semantic_type\": \"\",\n        \"description\": \"\"\n      }\n    },\n    {\n      \"column\": \"totChol\",\n      \"properties\": {\n        \"dtype\": \"number\",\n        \"std\": 498.88920011258824,\n        \"min\": 43.911986494154654,\n        \"max\": 1591.0,\n        \"num_unique_values\": 8,\n        \"samples\": [\n          234.36203645505972,\n          232.0,\n          1591.0\n        ],\n        \"semantic_type\": \"\",\n        \"description\": \"\"\n      }\n    },\n    {\n      \"column\": \"sysBP\",\n      \"properties\": {\n        \"dtype\": \"number\",\n        \"std\": 523.465820690579,\n        \"min\": 20.29391652595424,\n        \"max\": 1591.0,\n        \"num_unique_values\": 8,\n        \"samples\": [\n          129.0590823381521,\n          125.0,\n          1591.0\n        ],\n        \"semantic_type\": \"\",\n        \"description\": \"\"\n      }\n    },\n    {\n      \"column\": \"diaBP\",\n      \"properties\": {\n        \"dtype\": \"number\",\n        \"std\": 537.4415401191527,\n        \"min\": 11.68848652148654,\n        \"max\": 1591.0,\n        \"num_unique_values\": 8,\n        \"samples\": [\n          81.38026398491515,\n          80.0,\n          1591.0\n        ],\n        \"semantic_type\": \"\",\n        \"description\": \"\"\n      }\n    },\n    {\n      \"column\": \"BMI\",\n      \"properties\": {\n        \"dtype\": \"number\",\n        \"std\": 554.345097206828,\n        \"min\": 3.8558345871886135,\n        \"max\": 1591.0,\n        \"num_unique_values\": 8,\n        \"samples\": [\n          25.147297297297296,\n          24.68,\n          1591.0\n        ],\n        \"semantic_type\": \"\",\n        \"description\": \"\"\n      }\n    },\n    {\n      \"column\": \"heartRate\",\n      \"properties\": {\n        \"dtype\": \"number\",\n        \"std\": 538.8531360258269,\n        \"min\": 11.70790451641567,\n        \"max\": 1591.0,\n        \"num_unique_values\": 8,\n        \"samples\": [\n          76.1904462602137,\n          75.0,\n          1591.0\n        ],\n        \"semantic_type\": \"\",\n        \"description\": \"\"\n      }\n    },\n    {\n      \"column\": \"glucose\",\n      \"properties\": {\n        \"dtype\": \"number\",\n        \"std\": 536.315200445939,\n        \"min\": 20.812886596364596,\n        \"max\": 1591.0,\n        \"num_unique_values\": 8,\n        \"samples\": [\n          80.20175989943432,\n          77.0,\n          1591.0\n        ],\n        \"semantic_type\": \"\",\n        \"description\": \"\"\n      }\n    },\n    {\n      \"column\": \"TenYearCHD\",\n      \"properties\": {\n        \"dtype\": \"number\",\n        \"std\": 562.4267184665155,\n        \"min\": 0.0,\n        \"max\": 1591.0,\n        \"num_unique_values\": 5,\n        \"samples\": [\n          0.1571338780641106,\n          1.0,\n          0.36404137100230854\n        ],\n        \"semantic_type\": \"\",\n        \"description\": \"\"\n      }\n    },\n    {\n      \"column\": \"a1c\",\n      \"properties\": {\n        \"dtype\": \"number\",\n        \"std\": 560.5965619269161,\n        \"min\": 1.0579149039870488,\n        \"max\": 1591.0,\n        \"num_unique_values\": 8,\n        \"samples\": [\n          4.21316179879048,\n          4.076399173237824,\n          1591.0\n        ],\n        \"semantic_type\": \"\",\n        \"description\": \"\"\n      }\n    },\n    {\n      \"column\": \"income\",\n      \"properties\": {\n        \"dtype\": \"number\",\n        \"std\": 57801.004947295034,\n        \"min\": 1591.0,\n        \"max\": 176447.0,\n        \"num_unique_values\": 8,\n        \"samples\": [\n          19872.13953488372,\n          15887.0,\n          1591.0\n        ],\n        \"semantic_type\": \"\",\n        \"description\": \"\"\n      }\n    }\n  ]\n}",
              "type": "dataframe"
            },
            "text/html": [
              "\n",
              "  <div id=\"df-ba6f4964-68f0-4515-88e3-787921a600f0\" class=\"colab-df-container\">\n",
              "    <div>\n",
              "<style scoped>\n",
              "    .dataframe tbody tr th:only-of-type {\n",
              "        vertical-align: middle;\n",
              "    }\n",
              "\n",
              "    .dataframe tbody tr th {\n",
              "        vertical-align: top;\n",
              "    }\n",
              "\n",
              "    .dataframe thead th {\n",
              "        text-align: right;\n",
              "    }\n",
              "</style>\n",
              "<table border=\"1\" class=\"dataframe\">\n",
              "  <thead>\n",
              "    <tr style=\"text-align: right;\">\n",
              "      <th></th>\n",
              "      <th>patientID</th>\n",
              "      <th>male</th>\n",
              "      <th>age</th>\n",
              "      <th>education</th>\n",
              "      <th>currentSmoker</th>\n",
              "      <th>cigsPerDay</th>\n",
              "      <th>BPMeds</th>\n",
              "      <th>prevalentStroke</th>\n",
              "      <th>prevalentHyp</th>\n",
              "      <th>diabetes</th>\n",
              "      <th>totChol</th>\n",
              "      <th>sysBP</th>\n",
              "      <th>diaBP</th>\n",
              "      <th>BMI</th>\n",
              "      <th>heartRate</th>\n",
              "      <th>glucose</th>\n",
              "      <th>TenYearCHD</th>\n",
              "      <th>a1c</th>\n",
              "      <th>income</th>\n",
              "    </tr>\n",
              "  </thead>\n",
              "  <tbody>\n",
              "    <tr>\n",
              "      <th>count</th>\n",
              "      <td>1591.000000</td>\n",
              "      <td>1591.000000</td>\n",
              "      <td>1591.000000</td>\n",
              "      <td>1591.000000</td>\n",
              "      <td>1591.0</td>\n",
              "      <td>1591.000000</td>\n",
              "      <td>1591.000000</td>\n",
              "      <td>1591.000000</td>\n",
              "      <td>1591.000000</td>\n",
              "      <td>1591.000000</td>\n",
              "      <td>1591.000000</td>\n",
              "      <td>1591.000000</td>\n",
              "      <td>1591.000000</td>\n",
              "      <td>1591.000000</td>\n",
              "      <td>1591.000000</td>\n",
              "      <td>1591.000000</td>\n",
              "      <td>1591.000000</td>\n",
              "      <td>1591.000000</td>\n",
              "      <td>1591.000000</td>\n",
              "    </tr>\n",
              "    <tr>\n",
              "      <th>mean</th>\n",
              "      <td>556430.450660</td>\n",
              "      <td>0.551226</td>\n",
              "      <td>47.607165</td>\n",
              "      <td>1.989943</td>\n",
              "      <td>1.0</td>\n",
              "      <td>18.643620</td>\n",
              "      <td>0.020113</td>\n",
              "      <td>0.003143</td>\n",
              "      <td>0.255185</td>\n",
              "      <td>0.017599</td>\n",
              "      <td>234.362036</td>\n",
              "      <td>129.059082</td>\n",
              "      <td>81.380264</td>\n",
              "      <td>25.147297</td>\n",
              "      <td>76.190446</td>\n",
              "      <td>80.201760</td>\n",
              "      <td>0.157134</td>\n",
              "      <td>4.213162</td>\n",
              "      <td>19872.139535</td>\n",
              "    </tr>\n",
              "    <tr>\n",
              "      <th>std</th>\n",
              "      <td>257405.292784</td>\n",
              "      <td>0.497525</td>\n",
              "      <td>8.023059</td>\n",
              "      <td>1.014932</td>\n",
              "      <td>0.0</td>\n",
              "      <td>10.884382</td>\n",
              "      <td>0.140431</td>\n",
              "      <td>0.055989</td>\n",
              "      <td>0.436102</td>\n",
              "      <td>0.131530</td>\n",
              "      <td>43.911986</td>\n",
              "      <td>20.293917</td>\n",
              "      <td>11.688487</td>\n",
              "      <td>3.855835</td>\n",
              "      <td>11.707905</td>\n",
              "      <td>20.812887</td>\n",
              "      <td>0.364041</td>\n",
              "      <td>1.057915</td>\n",
              "      <td>12662.849759</td>\n",
              "    </tr>\n",
              "    <tr>\n",
              "      <th>min</th>\n",
              "      <td>100002.000000</td>\n",
              "      <td>0.000000</td>\n",
              "      <td>32.000000</td>\n",
              "      <td>1.000000</td>\n",
              "      <td>1.0</td>\n",
              "      <td>1.000000</td>\n",
              "      <td>0.000000</td>\n",
              "      <td>0.000000</td>\n",
              "      <td>0.000000</td>\n",
              "      <td>0.000000</td>\n",
              "      <td>113.000000</td>\n",
              "      <td>83.500000</td>\n",
              "      <td>53.000000</td>\n",
              "      <td>15.960000</td>\n",
              "      <td>45.000000</td>\n",
              "      <td>40.000000</td>\n",
              "      <td>0.000000</td>\n",
              "      <td>2.134769</td>\n",
              "      <td>12000.000000</td>\n",
              "    </tr>\n",
              "    <tr>\n",
              "      <th>25%</th>\n",
              "      <td>332803.500000</td>\n",
              "      <td>0.000000</td>\n",
              "      <td>41.000000</td>\n",
              "      <td>1.000000</td>\n",
              "      <td>1.0</td>\n",
              "      <td>10.000000</td>\n",
              "      <td>0.000000</td>\n",
              "      <td>0.000000</td>\n",
              "      <td>0.000000</td>\n",
              "      <td>0.000000</td>\n",
              "      <td>203.000000</td>\n",
              "      <td>115.000000</td>\n",
              "      <td>73.000000</td>\n",
              "      <td>22.530000</td>\n",
              "      <td>68.000000</td>\n",
              "      <td>70.000000</td>\n",
              "      <td>0.000000</td>\n",
              "      <td>3.695663</td>\n",
              "      <td>13471.500000</td>\n",
              "    </tr>\n",
              "    <tr>\n",
              "      <th>50%</th>\n",
              "      <td>558865.000000</td>\n",
              "      <td>1.000000</td>\n",
              "      <td>46.000000</td>\n",
              "      <td>2.000000</td>\n",
              "      <td>1.0</td>\n",
              "      <td>20.000000</td>\n",
              "      <td>0.000000</td>\n",
              "      <td>0.000000</td>\n",
              "      <td>0.000000</td>\n",
              "      <td>0.000000</td>\n",
              "      <td>232.000000</td>\n",
              "      <td>125.000000</td>\n",
              "      <td>80.000000</td>\n",
              "      <td>24.680000</td>\n",
              "      <td>75.000000</td>\n",
              "      <td>77.000000</td>\n",
              "      <td>0.000000</td>\n",
              "      <td>4.076399</td>\n",
              "      <td>15887.000000</td>\n",
              "    </tr>\n",
              "    <tr>\n",
              "      <th>75%</th>\n",
              "      <td>779670.000000</td>\n",
              "      <td>1.000000</td>\n",
              "      <td>53.000000</td>\n",
              "      <td>3.000000</td>\n",
              "      <td>1.0</td>\n",
              "      <td>20.000000</td>\n",
              "      <td>0.000000</td>\n",
              "      <td>0.000000</td>\n",
              "      <td>1.000000</td>\n",
              "      <td>0.000000</td>\n",
              "      <td>260.500000</td>\n",
              "      <td>139.000000</td>\n",
              "      <td>87.500000</td>\n",
              "      <td>27.365000</td>\n",
              "      <td>83.000000</td>\n",
              "      <td>85.000000</td>\n",
              "      <td>0.000000</td>\n",
              "      <td>4.523284</td>\n",
              "      <td>21467.000000</td>\n",
              "    </tr>\n",
              "    <tr>\n",
              "      <th>max</th>\n",
              "      <td>998914.000000</td>\n",
              "      <td>1.000000</td>\n",
              "      <td>69.000000</td>\n",
              "      <td>4.000000</td>\n",
              "      <td>1.0</td>\n",
              "      <td>70.000000</td>\n",
              "      <td>1.000000</td>\n",
              "      <td>1.000000</td>\n",
              "      <td>1.000000</td>\n",
              "      <td>1.000000</td>\n",
              "      <td>439.000000</td>\n",
              "      <td>220.000000</td>\n",
              "      <td>130.000000</td>\n",
              "      <td>44.270000</td>\n",
              "      <td>130.000000</td>\n",
              "      <td>368.000000</td>\n",
              "      <td>1.000000</td>\n",
              "      <td>18.583220</td>\n",
              "      <td>176447.000000</td>\n",
              "    </tr>\n",
              "  </tbody>\n",
              "</table>\n",
              "</div>\n",
              "    <div class=\"colab-df-buttons\">\n",
              "\n",
              "  <div class=\"colab-df-container\">\n",
              "    <button class=\"colab-df-convert\" onclick=\"convertToInteractive('df-ba6f4964-68f0-4515-88e3-787921a600f0')\"\n",
              "            title=\"Convert this dataframe to an interactive table.\"\n",
              "            style=\"display:none;\">\n",
              "\n",
              "  <svg xmlns=\"http://www.w3.org/2000/svg\" height=\"24px\" viewBox=\"0 -960 960 960\">\n",
              "    <path d=\"M120-120v-720h720v720H120Zm60-500h600v-160H180v160Zm220 220h160v-160H400v160Zm0 220h160v-160H400v160ZM180-400h160v-160H180v160Zm440 0h160v-160H620v160ZM180-180h160v-160H180v160Zm440 0h160v-160H620v160Z\"/>\n",
              "  </svg>\n",
              "    </button>\n",
              "\n",
              "  <style>\n",
              "    .colab-df-container {\n",
              "      display:flex;\n",
              "      gap: 12px;\n",
              "    }\n",
              "\n",
              "    .colab-df-convert {\n",
              "      background-color: #E8F0FE;\n",
              "      border: none;\n",
              "      border-radius: 50%;\n",
              "      cursor: pointer;\n",
              "      display: none;\n",
              "      fill: #1967D2;\n",
              "      height: 32px;\n",
              "      padding: 0 0 0 0;\n",
              "      width: 32px;\n",
              "    }\n",
              "\n",
              "    .colab-df-convert:hover {\n",
              "      background-color: #E2EBFA;\n",
              "      box-shadow: 0px 1px 2px rgba(60, 64, 67, 0.3), 0px 1px 3px 1px rgba(60, 64, 67, 0.15);\n",
              "      fill: #174EA6;\n",
              "    }\n",
              "\n",
              "    .colab-df-buttons div {\n",
              "      margin-bottom: 4px;\n",
              "    }\n",
              "\n",
              "    [theme=dark] .colab-df-convert {\n",
              "      background-color: #3B4455;\n",
              "      fill: #D2E3FC;\n",
              "    }\n",
              "\n",
              "    [theme=dark] .colab-df-convert:hover {\n",
              "      background-color: #434B5C;\n",
              "      box-shadow: 0px 1px 3px 1px rgba(0, 0, 0, 0.15);\n",
              "      filter: drop-shadow(0px 1px 2px rgba(0, 0, 0, 0.3));\n",
              "      fill: #FFFFFF;\n",
              "    }\n",
              "  </style>\n",
              "\n",
              "    <script>\n",
              "      const buttonEl =\n",
              "        document.querySelector('#df-ba6f4964-68f0-4515-88e3-787921a600f0 button.colab-df-convert');\n",
              "      buttonEl.style.display =\n",
              "        google.colab.kernel.accessAllowed ? 'block' : 'none';\n",
              "\n",
              "      async function convertToInteractive(key) {\n",
              "        const element = document.querySelector('#df-ba6f4964-68f0-4515-88e3-787921a600f0');\n",
              "        const dataTable =\n",
              "          await google.colab.kernel.invokeFunction('convertToInteractive',\n",
              "                                                    [key], {});\n",
              "        if (!dataTable) return;\n",
              "\n",
              "        const docLinkHtml = 'Like what you see? Visit the ' +\n",
              "          '<a target=\"_blank\" href=https://colab.research.google.com/notebooks/data_table.ipynb>data table notebook</a>'\n",
              "          + ' to learn more about interactive tables.';\n",
              "        element.innerHTML = '';\n",
              "        dataTable['output_type'] = 'display_data';\n",
              "        await google.colab.output.renderOutput(dataTable, element);\n",
              "        const docLink = document.createElement('div');\n",
              "        docLink.innerHTML = docLinkHtml;\n",
              "        element.appendChild(docLink);\n",
              "      }\n",
              "    </script>\n",
              "  </div>\n",
              "\n",
              "\n",
              "<div id=\"df-f706ff38-f8ee-4af4-8d3e-b82f12831dbb\">\n",
              "  <button class=\"colab-df-quickchart\" onclick=\"quickchart('df-f706ff38-f8ee-4af4-8d3e-b82f12831dbb')\"\n",
              "            title=\"Suggest charts\"\n",
              "            style=\"display:none;\">\n",
              "\n",
              "<svg xmlns=\"http://www.w3.org/2000/svg\" height=\"24px\"viewBox=\"0 0 24 24\"\n",
              "     width=\"24px\">\n",
              "    <g>\n",
              "        <path d=\"M19 3H5c-1.1 0-2 .9-2 2v14c0 1.1.9 2 2 2h14c1.1 0 2-.9 2-2V5c0-1.1-.9-2-2-2zM9 17H7v-7h2v7zm4 0h-2V7h2v10zm4 0h-2v-4h2v4z\"/>\n",
              "    </g>\n",
              "</svg>\n",
              "  </button>\n",
              "\n",
              "<style>\n",
              "  .colab-df-quickchart {\n",
              "      --bg-color: #E8F0FE;\n",
              "      --fill-color: #1967D2;\n",
              "      --hover-bg-color: #E2EBFA;\n",
              "      --hover-fill-color: #174EA6;\n",
              "      --disabled-fill-color: #AAA;\n",
              "      --disabled-bg-color: #DDD;\n",
              "  }\n",
              "\n",
              "  [theme=dark] .colab-df-quickchart {\n",
              "      --bg-color: #3B4455;\n",
              "      --fill-color: #D2E3FC;\n",
              "      --hover-bg-color: #434B5C;\n",
              "      --hover-fill-color: #FFFFFF;\n",
              "      --disabled-bg-color: #3B4455;\n",
              "      --disabled-fill-color: #666;\n",
              "  }\n",
              "\n",
              "  .colab-df-quickchart {\n",
              "    background-color: var(--bg-color);\n",
              "    border: none;\n",
              "    border-radius: 50%;\n",
              "    cursor: pointer;\n",
              "    display: none;\n",
              "    fill: var(--fill-color);\n",
              "    height: 32px;\n",
              "    padding: 0;\n",
              "    width: 32px;\n",
              "  }\n",
              "\n",
              "  .colab-df-quickchart:hover {\n",
              "    background-color: var(--hover-bg-color);\n",
              "    box-shadow: 0 1px 2px rgba(60, 64, 67, 0.3), 0 1px 3px 1px rgba(60, 64, 67, 0.15);\n",
              "    fill: var(--button-hover-fill-color);\n",
              "  }\n",
              "\n",
              "  .colab-df-quickchart-complete:disabled,\n",
              "  .colab-df-quickchart-complete:disabled:hover {\n",
              "    background-color: var(--disabled-bg-color);\n",
              "    fill: var(--disabled-fill-color);\n",
              "    box-shadow: none;\n",
              "  }\n",
              "\n",
              "  .colab-df-spinner {\n",
              "    border: 2px solid var(--fill-color);\n",
              "    border-color: transparent;\n",
              "    border-bottom-color: var(--fill-color);\n",
              "    animation:\n",
              "      spin 1s steps(1) infinite;\n",
              "  }\n",
              "\n",
              "  @keyframes spin {\n",
              "    0% {\n",
              "      border-color: transparent;\n",
              "      border-bottom-color: var(--fill-color);\n",
              "      border-left-color: var(--fill-color);\n",
              "    }\n",
              "    20% {\n",
              "      border-color: transparent;\n",
              "      border-left-color: var(--fill-color);\n",
              "      border-top-color: var(--fill-color);\n",
              "    }\n",
              "    30% {\n",
              "      border-color: transparent;\n",
              "      border-left-color: var(--fill-color);\n",
              "      border-top-color: var(--fill-color);\n",
              "      border-right-color: var(--fill-color);\n",
              "    }\n",
              "    40% {\n",
              "      border-color: transparent;\n",
              "      border-right-color: var(--fill-color);\n",
              "      border-top-color: var(--fill-color);\n",
              "    }\n",
              "    60% {\n",
              "      border-color: transparent;\n",
              "      border-right-color: var(--fill-color);\n",
              "    }\n",
              "    80% {\n",
              "      border-color: transparent;\n",
              "      border-right-color: var(--fill-color);\n",
              "      border-bottom-color: var(--fill-color);\n",
              "    }\n",
              "    90% {\n",
              "      border-color: transparent;\n",
              "      border-bottom-color: var(--fill-color);\n",
              "    }\n",
              "  }\n",
              "</style>\n",
              "\n",
              "  <script>\n",
              "    async function quickchart(key) {\n",
              "      const quickchartButtonEl =\n",
              "        document.querySelector('#' + key + ' button');\n",
              "      quickchartButtonEl.disabled = true;  // To prevent multiple clicks.\n",
              "      quickchartButtonEl.classList.add('colab-df-spinner');\n",
              "      try {\n",
              "        const charts = await google.colab.kernel.invokeFunction(\n",
              "            'suggestCharts', [key], {});\n",
              "      } catch (error) {\n",
              "        console.error('Error during call to suggestCharts:', error);\n",
              "      }\n",
              "      quickchartButtonEl.classList.remove('colab-df-spinner');\n",
              "      quickchartButtonEl.classList.add('colab-df-quickchart-complete');\n",
              "    }\n",
              "    (() => {\n",
              "      let quickchartButtonEl =\n",
              "        document.querySelector('#df-f706ff38-f8ee-4af4-8d3e-b82f12831dbb button');\n",
              "      quickchartButtonEl.style.display =\n",
              "        google.colab.kernel.accessAllowed ? 'block' : 'none';\n",
              "    })();\n",
              "  </script>\n",
              "</div>\n",
              "    </div>\n",
              "  </div>\n"
            ],
            "text/plain": [
              "           patientID         male          age    education  currentSmoker  \\\n",
              "count    1591.000000  1591.000000  1591.000000  1591.000000         1591.0   \n",
              "mean   556430.450660     0.551226    47.607165     1.989943            1.0   \n",
              "std    257405.292784     0.497525     8.023059     1.014932            0.0   \n",
              "min    100002.000000     0.000000    32.000000     1.000000            1.0   \n",
              "25%    332803.500000     0.000000    41.000000     1.000000            1.0   \n",
              "50%    558865.000000     1.000000    46.000000     2.000000            1.0   \n",
              "75%    779670.000000     1.000000    53.000000     3.000000            1.0   \n",
              "max    998914.000000     1.000000    69.000000     4.000000            1.0   \n",
              "\n",
              "        cigsPerDay       BPMeds  prevalentStroke  prevalentHyp     diabetes  \\\n",
              "count  1591.000000  1591.000000      1591.000000   1591.000000  1591.000000   \n",
              "mean     18.643620     0.020113         0.003143      0.255185     0.017599   \n",
              "std      10.884382     0.140431         0.055989      0.436102     0.131530   \n",
              "min       1.000000     0.000000         0.000000      0.000000     0.000000   \n",
              "25%      10.000000     0.000000         0.000000      0.000000     0.000000   \n",
              "50%      20.000000     0.000000         0.000000      0.000000     0.000000   \n",
              "75%      20.000000     0.000000         0.000000      1.000000     0.000000   \n",
              "max      70.000000     1.000000         1.000000      1.000000     1.000000   \n",
              "\n",
              "           totChol        sysBP        diaBP          BMI    heartRate  \\\n",
              "count  1591.000000  1591.000000  1591.000000  1591.000000  1591.000000   \n",
              "mean    234.362036   129.059082    81.380264    25.147297    76.190446   \n",
              "std      43.911986    20.293917    11.688487     3.855835    11.707905   \n",
              "min     113.000000    83.500000    53.000000    15.960000    45.000000   \n",
              "25%     203.000000   115.000000    73.000000    22.530000    68.000000   \n",
              "50%     232.000000   125.000000    80.000000    24.680000    75.000000   \n",
              "75%     260.500000   139.000000    87.500000    27.365000    83.000000   \n",
              "max     439.000000   220.000000   130.000000    44.270000   130.000000   \n",
              "\n",
              "           glucose   TenYearCHD          a1c         income  \n",
              "count  1591.000000  1591.000000  1591.000000    1591.000000  \n",
              "mean     80.201760     0.157134     4.213162   19872.139535  \n",
              "std      20.812887     0.364041     1.057915   12662.849759  \n",
              "min      40.000000     0.000000     2.134769   12000.000000  \n",
              "25%      70.000000     0.000000     3.695663   13471.500000  \n",
              "50%      77.000000     0.000000     4.076399   15887.000000  \n",
              "75%      85.000000     0.000000     4.523284   21467.000000  \n",
              "max     368.000000     1.000000    18.583220  176447.000000  "
            ]
          },
          "execution_count": 13,
          "metadata": {},
          "output_type": "execute_result"
        }
      ],
      "source": [
        "df.describe()"
      ]
    },
    {
      "cell_type": "code",
      "execution_count": null,
      "id": "0a4d803f",
      "metadata": {
        "id": "0a4d803f"
      },
      "outputs": [],
      "source": [
        "categorical_features = ['male', 'education', 'currentSmoker', 'BPMeds', 'prevalentStroke', 'prevalentHyp', 'diabetes']\n",
        "numeric_features = ['cigsPerDay', 'totChol', 'sysBP', 'diaBP', 'BMI', 'heartRate', 'glucose']"
      ]
    },
    {
      "cell_type": "code",
      "execution_count": null,
      "id": "27a9335c",
      "metadata": {
        "id": "27a9335c"
      },
      "outputs": [],
      "source": [
        "target1=df[df['TenYearCHD']==1]\n",
        "target0=df[df['TenYearCHD']==0]"
      ]
    },
    {
      "cell_type": "code",
      "execution_count": null,
      "id": "6d1640ec",
      "metadata": {
        "id": "6d1640ec"
      },
      "outputs": [],
      "source": [
        "target1=resample(target1,replace=True,n_samples=len(target0),random_state=40)"
      ]
    },
    {
      "cell_type": "code",
      "execution_count": null,
      "id": "2baa95b4",
      "metadata": {
        "id": "2baa95b4"
      },
      "outputs": [],
      "source": [
        "target=pd.concat([target0,target1])"
      ]
    },
    {
      "cell_type": "code",
      "execution_count": null,
      "id": "0e07cd60",
      "metadata": {
        "colab": {
          "base_uri": "https://localhost:8080/"
        },
        "id": "0e07cd60",
        "outputId": "af884383-38b7-448e-9241-149c994d8a53"
      },
      "outputs": [
        {
          "data": {
            "text/plain": [
              "TenYearCHD\n",
              "0    1341\n",
              "1    1341\n",
              "Name: count, dtype: int64"
            ]
          },
          "execution_count": 18,
          "metadata": {},
          "output_type": "execute_result"
        }
      ],
      "source": [
        "target['TenYearCHD'].value_counts()"
      ]
    },
    {
      "cell_type": "code",
      "execution_count": null,
      "id": "d5a9e90e",
      "metadata": {
        "colab": {
          "base_uri": "https://localhost:8080/"
        },
        "id": "d5a9e90e",
        "outputId": "72fb2817-5b87-4578-db87-0168162145a4"
      },
      "outputs": [
        {
          "data": {
            "text/plain": [
              "(2682, 19)"
            ]
          },
          "execution_count": 19,
          "metadata": {},
          "output_type": "execute_result"
        }
      ],
      "source": [
        "df=target\n",
        "np.shape(df)"
      ]
    },
    {
      "cell_type": "code",
      "execution_count": null,
      "id": "2f2fb275",
      "metadata": {
        "colab": {
          "base_uri": "https://localhost:8080/"
        },
        "id": "2f2fb275",
        "outputId": "3a2a38d4-5b9a-4bf4-85ee-b4219da7242f"
      },
      "outputs": [
        {
          "name": "stdout",
          "output_type": "stream",
          "text": [
            "X -  (2682, 15) \n",
            "y -  (2682,)\n"
          ]
        }
      ],
      "source": [
        "X=df.iloc[:,0:15]\n",
        "y=df.iloc[:,-1]\n",
        "print(\"X - \", X.shape, \"\\ny - \", y.shape)\n"
      ]
    },
    {
      "cell_type": "code",
      "execution_count": null,
      "id": "b8c3e91e",
      "metadata": {
        "colab": {
          "base_uri": "https://localhost:8080/",
          "height": 74
        },
        "id": "b8c3e91e",
        "outputId": "5a2c1429-e650-4172-ad4c-674f4260d4e8"
      },
      "outputs": [
        {
          "data": {
            "text/html": [
              "<style>#sk-container-id-1 {color: black;background-color: white;}#sk-container-id-1 pre{padding: 0;}#sk-container-id-1 div.sk-toggleable {background-color: white;}#sk-container-id-1 label.sk-toggleable__label {cursor: pointer;display: block;width: 100%;margin-bottom: 0;padding: 0.3em;box-sizing: border-box;text-align: center;}#sk-container-id-1 label.sk-toggleable__label-arrow:before {content: \"▸\";float: left;margin-right: 0.25em;color: #696969;}#sk-container-id-1 label.sk-toggleable__label-arrow:hover:before {color: black;}#sk-container-id-1 div.sk-estimator:hover label.sk-toggleable__label-arrow:before {color: black;}#sk-container-id-1 div.sk-toggleable__content {max-height: 0;max-width: 0;overflow: hidden;text-align: left;background-color: #f0f8ff;}#sk-container-id-1 div.sk-toggleable__content pre {margin: 0.2em;color: black;border-radius: 0.25em;background-color: #f0f8ff;}#sk-container-id-1 input.sk-toggleable__control:checked~div.sk-toggleable__content {max-height: 200px;max-width: 100%;overflow: auto;}#sk-container-id-1 input.sk-toggleable__control:checked~label.sk-toggleable__label-arrow:before {content: \"▾\";}#sk-container-id-1 div.sk-estimator input.sk-toggleable__control:checked~label.sk-toggleable__label {background-color: #d4ebff;}#sk-container-id-1 div.sk-label input.sk-toggleable__control:checked~label.sk-toggleable__label {background-color: #d4ebff;}#sk-container-id-1 input.sk-hidden--visually {border: 0;clip: rect(1px 1px 1px 1px);clip: rect(1px, 1px, 1px, 1px);height: 1px;margin: -1px;overflow: hidden;padding: 0;position: absolute;width: 1px;}#sk-container-id-1 div.sk-estimator {font-family: monospace;background-color: #f0f8ff;border: 1px dotted black;border-radius: 0.25em;box-sizing: border-box;margin-bottom: 0.5em;}#sk-container-id-1 div.sk-estimator:hover {background-color: #d4ebff;}#sk-container-id-1 div.sk-parallel-item::after {content: \"\";width: 100%;border-bottom: 1px solid gray;flex-grow: 1;}#sk-container-id-1 div.sk-label:hover label.sk-toggleable__label {background-color: #d4ebff;}#sk-container-id-1 div.sk-serial::before {content: \"\";position: absolute;border-left: 1px solid gray;box-sizing: border-box;top: 0;bottom: 0;left: 50%;z-index: 0;}#sk-container-id-1 div.sk-serial {display: flex;flex-direction: column;align-items: center;background-color: white;padding-right: 0.2em;padding-left: 0.2em;position: relative;}#sk-container-id-1 div.sk-item {position: relative;z-index: 1;}#sk-container-id-1 div.sk-parallel {display: flex;align-items: stretch;justify-content: center;background-color: white;position: relative;}#sk-container-id-1 div.sk-item::before, #sk-container-id-1 div.sk-parallel-item::before {content: \"\";position: absolute;border-left: 1px solid gray;box-sizing: border-box;top: 0;bottom: 0;left: 50%;z-index: -1;}#sk-container-id-1 div.sk-parallel-item {display: flex;flex-direction: column;z-index: 1;position: relative;background-color: white;}#sk-container-id-1 div.sk-parallel-item:first-child::after {align-self: flex-end;width: 50%;}#sk-container-id-1 div.sk-parallel-item:last-child::after {align-self: flex-start;width: 50%;}#sk-container-id-1 div.sk-parallel-item:only-child::after {width: 0;}#sk-container-id-1 div.sk-dashed-wrapped {border: 1px dashed gray;margin: 0 0.4em 0.5em 0.4em;box-sizing: border-box;padding-bottom: 0.4em;background-color: white;}#sk-container-id-1 div.sk-label label {font-family: monospace;font-weight: bold;display: inline-block;line-height: 1.2em;}#sk-container-id-1 div.sk-label-container {text-align: center;}#sk-container-id-1 div.sk-container {/* jupyter's `normalize.less` sets `[hidden] { display: none; }` but bootstrap.min.css set `[hidden] { display: none !important; }` so we also need the `!important` here to be able to override the default hidden behavior on the sphinx rendered scikit-learn.org. See: https://github.com/scikit-learn/scikit-learn/issues/21755 */display: inline-block !important;position: relative;}#sk-container-id-1 div.sk-text-repr-fallback {display: none;}</style><div id=\"sk-container-id-1\" class=\"sk-top-container\"><div class=\"sk-text-repr-fallback\"><pre>SelectKBest(score_func=&lt;function chi2 at 0x7d1ad354e8c0&gt;)</pre><b>In a Jupyter environment, please rerun this cell to show the HTML representation or trust the notebook. <br />On GitHub, the HTML representation is unable to render, please try loading this page with nbviewer.org.</b></div><div class=\"sk-container\" hidden><div class=\"sk-item\"><div class=\"sk-estimator sk-toggleable\"><input class=\"sk-toggleable__control sk-hidden--visually\" id=\"sk-estimator-id-1\" type=\"checkbox\" checked><label for=\"sk-estimator-id-1\" class=\"sk-toggleable__label sk-toggleable__label-arrow\">SelectKBest</label><div class=\"sk-toggleable__content\"><pre>SelectKBest(score_func=&lt;function chi2 at 0x7d1ad354e8c0&gt;)</pre></div></div></div></div></div>"
            ],
            "text/plain": [
              "SelectKBest(score_func=<function chi2 at 0x7d1ad354e8c0>)"
            ]
          },
          "execution_count": 21,
          "metadata": {},
          "output_type": "execute_result"
        }
      ],
      "source": [
        "best=SelectKBest(score_func=chi2, k=10)\n",
        "best"
      ]
    },
    {
      "cell_type": "code",
      "execution_count": null,
      "id": "b5b99da9",
      "metadata": {
        "id": "b5b99da9"
      },
      "outputs": [],
      "source": [
        "fit=best.fit(X,y)"
      ]
    },
    {
      "cell_type": "code",
      "execution_count": null,
      "id": "8cd70c72",
      "metadata": {
        "colab": {
          "base_uri": "https://localhost:8080/"
        },
        "id": "8cd70c72",
        "outputId": "7b6d8f84-fde8-452d-b428-44fa044ff07c"
      },
      "outputs": [
        {
          "name": "stdout",
          "output_type": "stream",
          "text": [
            "            Feature         Score\n",
            "0         patientID  3.114005e+08\n",
            "10          totChol  2.123583e+04\n",
            "5        cigsPerDay  1.574443e+04\n",
            "11            sysBP  1.022699e+04\n",
            "12            diaBP  4.981144e+03\n",
            "14        heartRate  4.645069e+03\n",
            "2               age  3.598639e+03\n",
            "7   prevalentStroke  2.666000e+03\n",
            "6            BPMeds  2.571240e+03\n",
            "9          diabetes  2.524933e+03\n",
            "8      prevalentHyp  1.763908e+03\n"
          ]
        }
      ],
      "source": [
        "df_scores=pd.DataFrame(fit.scores_)\n",
        "df_columns=pd.DataFrame(X.columns)\n",
        "scores=pd.concat([df_columns,df_scores],axis=1)\n",
        "scores.columns=['Feature','Score']\n",
        "print(scores.nlargest(11,'Score'))"
      ]
    },
    {
      "cell_type": "code",
      "execution_count": null,
      "id": "899969dd",
      "metadata": {
        "colab": {
          "base_uri": "https://localhost:8080/"
        },
        "id": "899969dd",
        "outputId": "1b80ed2e-5dd7-456e-be0a-bed42dcdd571"
      },
      "outputs": [
        {
          "data": {
            "text/plain": [
              "['patientID',\n",
              " 'male',\n",
              " 'age',\n",
              " 'education',\n",
              " 'currentSmoker',\n",
              " 'cigsPerDay',\n",
              " 'BPMeds',\n",
              " 'prevalentStroke',\n",
              " 'prevalentHyp',\n",
              " 'diabetes']"
            ]
          },
          "execution_count": 24,
          "metadata": {},
          "output_type": "execute_result"
        }
      ],
      "source": [
        "features=scores[\"Feature\"].tolist()[:10]\n",
        "features"
      ]
    },
    {
      "cell_type": "code",
      "execution_count": null,
      "id": "821c1e52",
      "metadata": {
        "colab": {
          "base_uri": "https://localhost:8080/",
          "height": 206
        },
        "id": "821c1e52",
        "outputId": "4dddf9ec-a7ec-4dfa-d46d-220bdc5a794c"
      },
      "outputs": [
        {
          "data": {
            "application/vnd.google.colaboratory.intrinsic+json": {
              "summary": "{\n  \"name\": \"df\",\n  \"rows\": 2682,\n  \"fields\": [\n    {\n      \"column\": \"sysBP\",\n      \"properties\": {\n        \"dtype\": \"number\",\n        \"std\": 23.00221452488809,\n        \"min\": 83.5,\n        \"max\": 220.0,\n        \"num_unique_values\": 183,\n        \"samples\": [\n          108.0,\n          154.0,\n          185.0\n        ],\n        \"semantic_type\": \"\",\n        \"description\": \"\"\n      }\n    },\n    {\n      \"column\": \"glucose\",\n      \"properties\": {\n        \"dtype\": \"number\",\n        \"std\": 27.721445295572,\n        \"min\": 40.0,\n        \"max\": 368.0,\n        \"num_unique_values\": 95,\n        \"samples\": [\n          120.0,\n          90.0,\n          348.0\n        ],\n        \"semantic_type\": \"\",\n        \"description\": \"\"\n      }\n    },\n    {\n      \"column\": \"age\",\n      \"properties\": {\n        \"dtype\": \"number\",\n        \"std\": 8,\n        \"min\": 32,\n        \"max\": 69,\n        \"num_unique_values\": 38,\n        \"samples\": [\n          68,\n          32,\n          64\n        ],\n        \"semantic_type\": \"\",\n        \"description\": \"\"\n      }\n    },\n    {\n      \"column\": \"cigsPerDay\",\n      \"properties\": {\n        \"dtype\": \"number\",\n        \"std\": 11.058820459002455,\n        \"min\": 1.0,\n        \"max\": 70.0,\n        \"num_unique_values\": 31,\n        \"samples\": [\n          16.0,\n          40.0,\n          38.0\n        ],\n        \"semantic_type\": \"\",\n        \"description\": \"\"\n      }\n    },\n    {\n      \"column\": \"totChol\",\n      \"properties\": {\n        \"dtype\": \"number\",\n        \"std\": 44.66458818287839,\n        \"min\": 113.0,\n        \"max\": 439.0,\n        \"num_unique_values\": 208,\n        \"samples\": [\n          204.0,\n          266.0,\n          192.0\n        ],\n        \"semantic_type\": \"\",\n        \"description\": \"\"\n      }\n    },\n    {\n      \"column\": \"diaBP\",\n      \"properties\": {\n        \"dtype\": \"number\",\n        \"std\": 12.675019721067693,\n        \"min\": 53.0,\n        \"max\": 130.0,\n        \"num_unique_values\": 116,\n        \"samples\": [\n          65.0,\n          85.0,\n          76.0\n        ],\n        \"semantic_type\": \"\",\n        \"description\": \"\"\n      }\n    },\n    {\n      \"column\": \"prevalentHyp\",\n      \"properties\": {\n        \"dtype\": \"number\",\n        \"std\": 0,\n        \"min\": 0,\n        \"max\": 1,\n        \"num_unique_values\": 2,\n        \"samples\": [\n          1,\n          0\n        ],\n        \"semantic_type\": \"\",\n        \"description\": \"\"\n      }\n    },\n    {\n      \"column\": \"male\",\n      \"properties\": {\n        \"dtype\": \"number\",\n        \"std\": 0,\n        \"min\": 0,\n        \"max\": 1,\n        \"num_unique_values\": 2,\n        \"samples\": [\n          0,\n          1\n        ],\n        \"semantic_type\": \"\",\n        \"description\": \"\"\n      }\n    },\n    {\n      \"column\": \"BPMeds\",\n      \"properties\": {\n        \"dtype\": \"number\",\n        \"std\": 0.16490102438056575,\n        \"min\": 0.0,\n        \"max\": 1.0,\n        \"num_unique_values\": 2,\n        \"samples\": [\n          1.0,\n          0.0\n        ],\n        \"semantic_type\": \"\",\n        \"description\": \"\"\n      }\n    },\n    {\n      \"column\": \"diabetes\",\n      \"properties\": {\n        \"dtype\": \"number\",\n        \"std\": 0,\n        \"min\": 0,\n        \"max\": 1,\n        \"num_unique_values\": 2,\n        \"samples\": [\n          1,\n          0\n        ],\n        \"semantic_type\": \"\",\n        \"description\": \"\"\n      }\n    },\n    {\n      \"column\": \"TenYearCHD\",\n      \"properties\": {\n        \"dtype\": \"number\",\n        \"std\": 0,\n        \"min\": 0,\n        \"max\": 1,\n        \"num_unique_values\": 2,\n        \"samples\": [\n          1,\n          0\n        ],\n        \"semantic_type\": \"\",\n        \"description\": \"\"\n      }\n    }\n  ]\n}",
              "type": "dataframe",
              "variable_name": "df"
            },
            "text/html": [
              "\n",
              "  <div id=\"df-6716933f-d629-411e-b43a-12a9a2b68a31\" class=\"colab-df-container\">\n",
              "    <div>\n",
              "<style scoped>\n",
              "    .dataframe tbody tr th:only-of-type {\n",
              "        vertical-align: middle;\n",
              "    }\n",
              "\n",
              "    .dataframe tbody tr th {\n",
              "        vertical-align: top;\n",
              "    }\n",
              "\n",
              "    .dataframe thead th {\n",
              "        text-align: right;\n",
              "    }\n",
              "</style>\n",
              "<table border=\"1\" class=\"dataframe\">\n",
              "  <thead>\n",
              "    <tr style=\"text-align: right;\">\n",
              "      <th></th>\n",
              "      <th>sysBP</th>\n",
              "      <th>glucose</th>\n",
              "      <th>age</th>\n",
              "      <th>cigsPerDay</th>\n",
              "      <th>totChol</th>\n",
              "      <th>diaBP</th>\n",
              "      <th>prevalentHyp</th>\n",
              "      <th>male</th>\n",
              "      <th>BPMeds</th>\n",
              "      <th>diabetes</th>\n",
              "      <th>TenYearCHD</th>\n",
              "    </tr>\n",
              "  </thead>\n",
              "  <tbody>\n",
              "    <tr>\n",
              "      <th>1</th>\n",
              "      <td>121.0</td>\n",
              "      <td>91.0</td>\n",
              "      <td>43</td>\n",
              "      <td>25.0</td>\n",
              "      <td>201.0</td>\n",
              "      <td>82.0</td>\n",
              "      <td>0</td>\n",
              "      <td>1</td>\n",
              "      <td>0.0</td>\n",
              "      <td>0</td>\n",
              "      <td>0</td>\n",
              "    </tr>\n",
              "    <tr>\n",
              "      <th>2</th>\n",
              "      <td>140.0</td>\n",
              "      <td>74.0</td>\n",
              "      <td>45</td>\n",
              "      <td>1.0</td>\n",
              "      <td>277.0</td>\n",
              "      <td>84.0</td>\n",
              "      <td>1</td>\n",
              "      <td>1</td>\n",
              "      <td>0.0</td>\n",
              "      <td>0</td>\n",
              "      <td>0</td>\n",
              "    </tr>\n",
              "    <tr>\n",
              "      <th>3</th>\n",
              "      <td>189.0</td>\n",
              "      <td>74.0</td>\n",
              "      <td>63</td>\n",
              "      <td>10.0</td>\n",
              "      <td>236.0</td>\n",
              "      <td>103.0</td>\n",
              "      <td>1</td>\n",
              "      <td>0</td>\n",
              "      <td>0.0</td>\n",
              "      <td>0</td>\n",
              "      <td>0</td>\n",
              "    </tr>\n",
              "    <tr>\n",
              "      <th>16</th>\n",
              "      <td>108.5</td>\n",
              "      <td>102.0</td>\n",
              "      <td>60</td>\n",
              "      <td>9.0</td>\n",
              "      <td>235.0</td>\n",
              "      <td>73.5</td>\n",
              "      <td>0</td>\n",
              "      <td>1</td>\n",
              "      <td>0.0</td>\n",
              "      <td>0</td>\n",
              "      <td>0</td>\n",
              "    </tr>\n",
              "    <tr>\n",
              "      <th>18</th>\n",
              "      <td>163.0</td>\n",
              "      <td>68.0</td>\n",
              "      <td>64</td>\n",
              "      <td>15.0</td>\n",
              "      <td>283.0</td>\n",
              "      <td>85.0</td>\n",
              "      <td>1</td>\n",
              "      <td>0</td>\n",
              "      <td>0.0</td>\n",
              "      <td>0</td>\n",
              "      <td>0</td>\n",
              "    </tr>\n",
              "  </tbody>\n",
              "</table>\n",
              "</div>\n",
              "    <div class=\"colab-df-buttons\">\n",
              "\n",
              "  <div class=\"colab-df-container\">\n",
              "    <button class=\"colab-df-convert\" onclick=\"convertToInteractive('df-6716933f-d629-411e-b43a-12a9a2b68a31')\"\n",
              "            title=\"Convert this dataframe to an interactive table.\"\n",
              "            style=\"display:none;\">\n",
              "\n",
              "  <svg xmlns=\"http://www.w3.org/2000/svg\" height=\"24px\" viewBox=\"0 -960 960 960\">\n",
              "    <path d=\"M120-120v-720h720v720H120Zm60-500h600v-160H180v160Zm220 220h160v-160H400v160Zm0 220h160v-160H400v160ZM180-400h160v-160H180v160Zm440 0h160v-160H620v160ZM180-180h160v-160H180v160Zm440 0h160v-160H620v160Z\"/>\n",
              "  </svg>\n",
              "    </button>\n",
              "\n",
              "  <style>\n",
              "    .colab-df-container {\n",
              "      display:flex;\n",
              "      gap: 12px;\n",
              "    }\n",
              "\n",
              "    .colab-df-convert {\n",
              "      background-color: #E8F0FE;\n",
              "      border: none;\n",
              "      border-radius: 50%;\n",
              "      cursor: pointer;\n",
              "      display: none;\n",
              "      fill: #1967D2;\n",
              "      height: 32px;\n",
              "      padding: 0 0 0 0;\n",
              "      width: 32px;\n",
              "    }\n",
              "\n",
              "    .colab-df-convert:hover {\n",
              "      background-color: #E2EBFA;\n",
              "      box-shadow: 0px 1px 2px rgba(60, 64, 67, 0.3), 0px 1px 3px 1px rgba(60, 64, 67, 0.15);\n",
              "      fill: #174EA6;\n",
              "    }\n",
              "\n",
              "    .colab-df-buttons div {\n",
              "      margin-bottom: 4px;\n",
              "    }\n",
              "\n",
              "    [theme=dark] .colab-df-convert {\n",
              "      background-color: #3B4455;\n",
              "      fill: #D2E3FC;\n",
              "    }\n",
              "\n",
              "    [theme=dark] .colab-df-convert:hover {\n",
              "      background-color: #434B5C;\n",
              "      box-shadow: 0px 1px 3px 1px rgba(0, 0, 0, 0.15);\n",
              "      filter: drop-shadow(0px 1px 2px rgba(0, 0, 0, 0.3));\n",
              "      fill: #FFFFFF;\n",
              "    }\n",
              "  </style>\n",
              "\n",
              "    <script>\n",
              "      const buttonEl =\n",
              "        document.querySelector('#df-6716933f-d629-411e-b43a-12a9a2b68a31 button.colab-df-convert');\n",
              "      buttonEl.style.display =\n",
              "        google.colab.kernel.accessAllowed ? 'block' : 'none';\n",
              "\n",
              "      async function convertToInteractive(key) {\n",
              "        const element = document.querySelector('#df-6716933f-d629-411e-b43a-12a9a2b68a31');\n",
              "        const dataTable =\n",
              "          await google.colab.kernel.invokeFunction('convertToInteractive',\n",
              "                                                    [key], {});\n",
              "        if (!dataTable) return;\n",
              "\n",
              "        const docLinkHtml = 'Like what you see? Visit the ' +\n",
              "          '<a target=\"_blank\" href=https://colab.research.google.com/notebooks/data_table.ipynb>data table notebook</a>'\n",
              "          + ' to learn more about interactive tables.';\n",
              "        element.innerHTML = '';\n",
              "        dataTable['output_type'] = 'display_data';\n",
              "        await google.colab.output.renderOutput(dataTable, element);\n",
              "        const docLink = document.createElement('div');\n",
              "        docLink.innerHTML = docLinkHtml;\n",
              "        element.appendChild(docLink);\n",
              "      }\n",
              "    </script>\n",
              "  </div>\n",
              "\n",
              "\n",
              "<div id=\"df-e8bb52f6-7b54-4ab7-bf63-e47939d8b36d\">\n",
              "  <button class=\"colab-df-quickchart\" onclick=\"quickchart('df-e8bb52f6-7b54-4ab7-bf63-e47939d8b36d')\"\n",
              "            title=\"Suggest charts\"\n",
              "            style=\"display:none;\">\n",
              "\n",
              "<svg xmlns=\"http://www.w3.org/2000/svg\" height=\"24px\"viewBox=\"0 0 24 24\"\n",
              "     width=\"24px\">\n",
              "    <g>\n",
              "        <path d=\"M19 3H5c-1.1 0-2 .9-2 2v14c0 1.1.9 2 2 2h14c1.1 0 2-.9 2-2V5c0-1.1-.9-2-2-2zM9 17H7v-7h2v7zm4 0h-2V7h2v10zm4 0h-2v-4h2v4z\"/>\n",
              "    </g>\n",
              "</svg>\n",
              "  </button>\n",
              "\n",
              "<style>\n",
              "  .colab-df-quickchart {\n",
              "      --bg-color: #E8F0FE;\n",
              "      --fill-color: #1967D2;\n",
              "      --hover-bg-color: #E2EBFA;\n",
              "      --hover-fill-color: #174EA6;\n",
              "      --disabled-fill-color: #AAA;\n",
              "      --disabled-bg-color: #DDD;\n",
              "  }\n",
              "\n",
              "  [theme=dark] .colab-df-quickchart {\n",
              "      --bg-color: #3B4455;\n",
              "      --fill-color: #D2E3FC;\n",
              "      --hover-bg-color: #434B5C;\n",
              "      --hover-fill-color: #FFFFFF;\n",
              "      --disabled-bg-color: #3B4455;\n",
              "      --disabled-fill-color: #666;\n",
              "  }\n",
              "\n",
              "  .colab-df-quickchart {\n",
              "    background-color: var(--bg-color);\n",
              "    border: none;\n",
              "    border-radius: 50%;\n",
              "    cursor: pointer;\n",
              "    display: none;\n",
              "    fill: var(--fill-color);\n",
              "    height: 32px;\n",
              "    padding: 0;\n",
              "    width: 32px;\n",
              "  }\n",
              "\n",
              "  .colab-df-quickchart:hover {\n",
              "    background-color: var(--hover-bg-color);\n",
              "    box-shadow: 0 1px 2px rgba(60, 64, 67, 0.3), 0 1px 3px 1px rgba(60, 64, 67, 0.15);\n",
              "    fill: var(--button-hover-fill-color);\n",
              "  }\n",
              "\n",
              "  .colab-df-quickchart-complete:disabled,\n",
              "  .colab-df-quickchart-complete:disabled:hover {\n",
              "    background-color: var(--disabled-bg-color);\n",
              "    fill: var(--disabled-fill-color);\n",
              "    box-shadow: none;\n",
              "  }\n",
              "\n",
              "  .colab-df-spinner {\n",
              "    border: 2px solid var(--fill-color);\n",
              "    border-color: transparent;\n",
              "    border-bottom-color: var(--fill-color);\n",
              "    animation:\n",
              "      spin 1s steps(1) infinite;\n",
              "  }\n",
              "\n",
              "  @keyframes spin {\n",
              "    0% {\n",
              "      border-color: transparent;\n",
              "      border-bottom-color: var(--fill-color);\n",
              "      border-left-color: var(--fill-color);\n",
              "    }\n",
              "    20% {\n",
              "      border-color: transparent;\n",
              "      border-left-color: var(--fill-color);\n",
              "      border-top-color: var(--fill-color);\n",
              "    }\n",
              "    30% {\n",
              "      border-color: transparent;\n",
              "      border-left-color: var(--fill-color);\n",
              "      border-top-color: var(--fill-color);\n",
              "      border-right-color: var(--fill-color);\n",
              "    }\n",
              "    40% {\n",
              "      border-color: transparent;\n",
              "      border-right-color: var(--fill-color);\n",
              "      border-top-color: var(--fill-color);\n",
              "    }\n",
              "    60% {\n",
              "      border-color: transparent;\n",
              "      border-right-color: var(--fill-color);\n",
              "    }\n",
              "    80% {\n",
              "      border-color: transparent;\n",
              "      border-right-color: var(--fill-color);\n",
              "      border-bottom-color: var(--fill-color);\n",
              "    }\n",
              "    90% {\n",
              "      border-color: transparent;\n",
              "      border-bottom-color: var(--fill-color);\n",
              "    }\n",
              "  }\n",
              "</style>\n",
              "\n",
              "  <script>\n",
              "    async function quickchart(key) {\n",
              "      const quickchartButtonEl =\n",
              "        document.querySelector('#' + key + ' button');\n",
              "      quickchartButtonEl.disabled = true;  // To prevent multiple clicks.\n",
              "      quickchartButtonEl.classList.add('colab-df-spinner');\n",
              "      try {\n",
              "        const charts = await google.colab.kernel.invokeFunction(\n",
              "            'suggestCharts', [key], {});\n",
              "      } catch (error) {\n",
              "        console.error('Error during call to suggestCharts:', error);\n",
              "      }\n",
              "      quickchartButtonEl.classList.remove('colab-df-spinner');\n",
              "      quickchartButtonEl.classList.add('colab-df-quickchart-complete');\n",
              "    }\n",
              "    (() => {\n",
              "      let quickchartButtonEl =\n",
              "        document.querySelector('#df-e8bb52f6-7b54-4ab7-bf63-e47939d8b36d button');\n",
              "      quickchartButtonEl.style.display =\n",
              "        google.colab.kernel.accessAllowed ? 'block' : 'none';\n",
              "    })();\n",
              "  </script>\n",
              "</div>\n",
              "    </div>\n",
              "  </div>\n"
            ],
            "text/plain": [
              "    sysBP  glucose  age  cigsPerDay  totChol  diaBP  prevalentHyp  male  \\\n",
              "1   121.0     91.0   43        25.0    201.0   82.0             0     1   \n",
              "2   140.0     74.0   45         1.0    277.0   84.0             1     1   \n",
              "3   189.0     74.0   63        10.0    236.0  103.0             1     0   \n",
              "16  108.5    102.0   60         9.0    235.0   73.5             0     1   \n",
              "18  163.0     68.0   64        15.0    283.0   85.0             1     0   \n",
              "\n",
              "    BPMeds  diabetes  TenYearCHD  \n",
              "1      0.0         0           0  \n",
              "2      0.0         0           0  \n",
              "3      0.0         0           0  \n",
              "16     0.0         0           0  \n",
              "18     0.0         0           0  "
            ]
          },
          "execution_count": 25,
          "metadata": {},
          "output_type": "execute_result"
        }
      ],
      "source": [
        "df=df[['sysBP','glucose','age','cigsPerDay','totChol','diaBP','prevalentHyp','male','BPMeds','diabetes','TenYearCHD']]\n",
        "df.head()\n"
      ]
    },
    {
      "cell_type": "code",
      "execution_count": null,
      "id": "9dbd8112",
      "metadata": {
        "id": "9dbd8112"
      },
      "outputs": [],
      "source": [
        "y = df['TenYearCHD']\n",
        "X = df.drop(['TenYearCHD'], axis=1)\n",
        "train_x, test_x, train_y, test_y = train_test_split(X, y, test_size=0.4, random_state=1)"
      ]
    },
    {
      "cell_type": "code",
      "execution_count": null,
      "id": "386910d8",
      "metadata": {
        "id": "386910d8"
      },
      "outputs": [],
      "source": [
        "scaler = MinMaxScaler()\n",
        "train_x = scaler.fit_transform(train_x)\n",
        "test_x = scaler.transform(test_x)\n"
      ]
    },
    {
      "cell_type": "code",
      "execution_count": null,
      "id": "32d0ae19",
      "metadata": {
        "colab": {
          "base_uri": "https://localhost:8080/"
        },
        "id": "32d0ae19",
        "outputId": "cdd6b0f7-d80a-4097-9cdf-a2c96c29371c"
      },
      "outputs": [
        {
          "name": "stdout",
          "output_type": "stream",
          "text": [
            "confussion matrix\n",
            "[[349 176]\n",
            " [191 357]]\n",
            "\n",
            "\n",
            "Accuracy of Logistic Regression: 65.79683131407269 \n",
            "\n",
            "              precision    recall  f1-score   support\n",
            "\n",
            "           0       0.65      0.66      0.66       525\n",
            "           1       0.67      0.65      0.66       548\n",
            "\n",
            "    accuracy                           0.66      1073\n",
            "   macro avg       0.66      0.66      0.66      1073\n",
            "weighted avg       0.66      0.66      0.66      1073\n",
            "\n"
          ]
        }
      ],
      "source": [
        "m1 = 'LogisticRegression'\n",
        "lr = LogisticRegression(random_state=1, max_iter=1000)\n",
        "model = lr.fit(train_x, train_y)\n",
        "lr_predict = lr.predict(test_x)\n",
        "lr_conf_matrix = confusion_matrix(test_y, lr_predict)\n",
        "lr_acc_score = accuracy_score(test_y, lr_predict)\n",
        "print(\"confussion matrix\")\n",
        "print(lr_conf_matrix)\n",
        "print(\"\\n\")\n",
        "print(\"Accuracy of Logistic Regression:\",lr_acc_score*100,'\\n')\n",
        "print(classification_report(test_y,lr_predict))"
      ]
    },
    {
      "cell_type": "code",
      "execution_count": null,
      "id": "39fea183",
      "metadata": {
        "colab": {
          "base_uri": "https://localhost:8080/"
        },
        "id": "39fea183",
        "outputId": "9bb0e218-1574-44ce-88af-123bb40f14f3"
      },
      "outputs": [
        {
          "name": "stdout",
          "output_type": "stream",
          "text": [
            "confussion matrix\n",
            "[[441  84]\n",
            " [ 18 530]]\n",
            "\n",
            "\n",
            "Accuracy of k-NN Classification: 90.49394221808015 \n",
            "\n",
            "              precision    recall  f1-score   support\n",
            "\n",
            "           0       0.96      0.84      0.90       525\n",
            "           1       0.86      0.97      0.91       548\n",
            "\n",
            "    accuracy                           0.90      1073\n",
            "   macro avg       0.91      0.90      0.90      1073\n",
            "weighted avg       0.91      0.90      0.90      1073\n",
            "\n"
          ]
        }
      ],
      "source": [
        "m2 = 'KNeighborsClassifier'\n",
        "knn = KNeighborsClassifier(n_neighbors=1)\n",
        "model = knn.fit(train_x, train_y)\n",
        "knn_predict = knn.predict(test_x)\n",
        "knn_conf_matrix = confusion_matrix(test_y, knn_predict)\n",
        "knn_acc_score = accuracy_score(test_y, knn_predict)\n",
        "print(\"confussion matrix\")\n",
        "print(knn_conf_matrix)\n",
        "print(\"\\n\")\n",
        "print(\"Accuracy of k-NN Classification:\",knn_acc_score*100,'\\n')\n",
        "print(classification_report(test_y, knn_predict))\n"
      ]
    },
    {
      "cell_type": "code",
      "execution_count": null,
      "id": "d9fb01dc",
      "metadata": {
        "colab": {
          "base_uri": "https://localhost:8080/"
        },
        "id": "d9fb01dc",
        "outputId": "7b189c47-cba3-4b87-9df8-b22393eef3ab"
      },
      "outputs": [
        {
          "name": "stdout",
          "output_type": "stream",
          "text": [
            "confussion matrix\n",
            "[[453  72]\n",
            " [ 10 538]]\n",
            "\n",
            "\n",
            "Accuracy of Random Forest: 92.3578751164958 \n",
            "\n",
            "              precision    recall  f1-score   support\n",
            "\n",
            "           0       0.98      0.86      0.92       525\n",
            "           1       0.88      0.98      0.93       548\n",
            "\n",
            "    accuracy                           0.92      1073\n",
            "   macro avg       0.93      0.92      0.92      1073\n",
            "weighted avg       0.93      0.92      0.92      1073\n",
            "\n"
          ]
        }
      ],
      "source": [
        "m3 = 'Random Forest Classfier'\n",
        "rf = RandomForestClassifier(n_estimators=200, random_state=0,max_depth=12)\n",
        "rf.fit(train_x,train_y)\n",
        "rf_predicted = rf.predict(test_x)\n",
        "rf_conf_matrix = confusion_matrix(test_y, rf_predicted)\n",
        "rf_acc_score = accuracy_score(test_y, rf_predicted)\n",
        "print(\"confussion matrix\")\n",
        "print(rf_conf_matrix)\n",
        "print(\"\\n\")\n",
        "print(\"Accuracy of Random Forest:\",rf_acc_score*100,'\\n')\n",
        "print(classification_report(test_y,rf_predicted))"
      ]
    },
    {
      "cell_type": "code",
      "execution_count": null,
      "id": "436842f1",
      "metadata": {
        "colab": {
          "base_uri": "https://localhost:8080/"
        },
        "id": "436842f1",
        "outputId": "594e5ee1-cdbc-4a15-8848-e259be8a931d"
      },
      "outputs": [
        {
          "name": "stdout",
          "output_type": "stream",
          "text": [
            "confussion matrix\n",
            "[[416 109]\n",
            " [ 19 529]]\n",
            "\n",
            "\n",
            "Accuracy of DecisionTreeClassifier: 88.0708294501398 \n",
            "\n",
            "              precision    recall  f1-score   support\n",
            "\n",
            "           0       0.96      0.79      0.87       525\n",
            "           1       0.83      0.97      0.89       548\n",
            "\n",
            "    accuracy                           0.88      1073\n",
            "   macro avg       0.89      0.88      0.88      1073\n",
            "weighted avg       0.89      0.88      0.88      1073\n",
            "\n"
          ]
        }
      ],
      "source": [
        "m4 = 'DecisionTreeClassifier'\n",
        "dt = DecisionTreeClassifier(criterion = 'entropy',random_state=0,max_depth = 30)\n",
        "dt.fit(train_x,train_y)\n",
        "dt_predicted = dt.predict(test_x)\n",
        "dt_conf_matrix = confusion_matrix(test_y, dt_predicted)\n",
        "dt_acc_score = accuracy_score(test_y, dt_predicted)\n",
        "print(\"confussion matrix\")\n",
        "print(dt_conf_matrix)\n",
        "print(\"\\n\")\n",
        "print(\"Accuracy of DecisionTreeClassifier:\",dt_acc_score*100,'\\n')\n",
        "print(classification_report(test_y,dt_predicted))"
      ]
    },
    {
      "cell_type": "code",
      "execution_count": null,
      "id": "1c0736a6",
      "metadata": {
        "colab": {
          "base_uri": "https://localhost:8080/"
        },
        "id": "1c0736a6",
        "outputId": "1b4515c5-d4ed-4db4-c859-65e455527a97"
      },
      "outputs": [
        {
          "name": "stdout",
          "output_type": "stream",
          "text": [
            "{'n_estimators': [200, 400, 600, 800, 1000, 1200, 1400, 1600, 1800, 2000], 'max_features': ['auto', 'sqrt'], 'max_depth': [10, 20, 30, 40, 50, 60, 70, 80, 90, 100, 110, None], 'min_samples_split': [2, 5, 10], 'min_samples_leaf': [1, 2, 4], 'bootstrap': [True, False]}\n"
          ]
        }
      ],
      "source": [
        "# Number of trees in random forest\n",
        "n_estimators = [int(x) for x in np.linspace(start = 200, stop = 2000, num = 10)]\n",
        "\n",
        "# Number of features to consider at every split\n",
        "max_features = ['auto', 'sqrt']\n",
        "\n",
        "# Maximum number of levels in tree\n",
        "max_depth = [int(x) for x in np.linspace(10, 110, num = 11)]\n",
        "max_depth.append(None)\n",
        "\n",
        "# Minimum number of samples required to split a node\n",
        "min_samples_split = [2, 5, 10]\n",
        "\n",
        "# Minimum number of samples required at each leaf node\n",
        "min_samples_leaf = [1, 2, 4]\n",
        "\n",
        "# Method of selecting samples for training each tree\n",
        "bootstrap = [True, False]\n",
        "\n",
        "# Create the random grid\n",
        "random_grid = {'n_estimators': n_estimators,\n",
        "               'max_features': max_features,\n",
        "               'max_depth': max_depth,\n",
        "               'min_samples_split': min_samples_split,\n",
        "               'min_samples_leaf': min_samples_leaf,\n",
        "               'bootstrap': bootstrap}\n",
        "print(random_grid)\n"
      ]
    },
    {
      "cell_type": "code",
      "execution_count": null,
      "id": "82162059",
      "metadata": {
        "colab": {
          "base_uri": "https://localhost:8080/"
        },
        "id": "82162059",
        "outputId": "8ff35e94-ec8a-42b6-ddc6-4b7fa8062eab"
      },
      "outputs": [
        {
          "name": "stdout",
          "output_type": "stream",
          "text": [
            "Fitting 3 folds for each of 100 candidates, totalling 300 fits\n"
          ]
        }
      ],
      "source": [
        "# Use the random grid to search for best hyperparameters\n",
        "# First create the base model to tune\n",
        "rf = RandomForestClassifier()\n",
        "\n",
        "# Random search of parameters, using 3 fold cross validation,\n",
        "# search across 100 different combinations, and use all available cores\n",
        "rf_random = RandomizedSearchCV(estimator = rf,\n",
        "                               param_distributions = random_grid,\n",
        "                               n_iter = 100,\n",
        "                               cv = 3,\n",
        "                               verbose=2,\n",
        "                               random_state=7,\n",
        "                               n_jobs = -1)\n",
        "\n",
        "# Fit the random search model\n",
        "rf_random.fit(train_x,train_y)"
      ]
    },
    {
      "cell_type": "code",
      "execution_count": null,
      "id": "dea41192",
      "metadata": {
        "colab": {
          "background_save": true
        },
        "id": "dea41192",
        "outputId": "8b2ffcaa-4021-4000-8e12-0fc8f54187f1"
      },
      "outputs": [
        {
          "name": "stdout",
          "output_type": "stream",
          "text": [
            "Accuracy on training set is : 1.0\n",
            "Accuracy on validation set is : 0.9496738117427772\n",
            "Accuracy of Hyper-tuned Random Forest Classifier: 94.96738117427772 \n",
            "\n",
            "              precision    recall  f1-score   support\n",
            "\n",
            "           0       0.97      0.92      0.95       525\n",
            "           1       0.93      0.98      0.95       548\n",
            "\n",
            "    accuracy                           0.95      1073\n",
            "   macro avg       0.95      0.95      0.95      1073\n",
            "weighted avg       0.95      0.95      0.95      1073\n",
            "\n"
          ]
        }
      ],
      "source": [
        "rf_hyper = rf_random.best_estimator_\n",
        "rf_hyper.fit(train_x,train_y)\n",
        "print(\"Accuracy on training set is : {}\".format(rf_hyper.score(train_x,train_y)))\n",
        "print(\"Accuracy on validation set is : {}\".format(rf_hyper.score(test_x, test_y)))\n",
        "rf_predicted = rf_hyper.predict(test_x)\n",
        "rf_acc_score = accuracy_score(test_y, rf_predicted)\n",
        "print(\"Accuracy of Hyper-tuned Random Forest Classifier:\",rf_acc_score*100,'\\n')\n",
        "print(classification_report(test_y, rf_predicted))\n",
        "\n"
      ]
    }
  ],
  "metadata": {
    "colab": {
      "provenance": []
    },
    "kernelspec": {
      "display_name": "Python 3 (ipykernel)",
      "language": "python",
      "name": "python3"
    },
    "language_info": {
      "codemirror_mode": {
        "name": "ipython",
        "version": 3
      },
      "file_extension": ".py",
      "mimetype": "text/x-python",
      "name": "python",
      "nbconvert_exporter": "python",
      "pygments_lexer": "ipython3",
      "version": "3.11.0"
    }
  },
  "nbformat": 4,
  "nbformat_minor": 5
}