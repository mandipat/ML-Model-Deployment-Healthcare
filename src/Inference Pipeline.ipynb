{
  "cells": [
    {
      "cell_type": "code",
      "id": "uy6XrbCasJ3t5UP5lMuC4kQQ",
      "metadata": {
        "tags": [],
        "id": "uy6XrbCasJ3t5UP5lMuC4kQQ",
        "collapsed": true
      },
      "source": [
        "! pip install kfp\n",
        "!pip install google-cloud-pipeline-components\n",
        "!pip install gcsfs\n",
        "!pip install scikit-learn\n",
        "!pip install fsspec"
      ],
      "execution_count": null,
      "outputs": []
    },
    {
      "cell_type": "markdown",
      "source": [
        "#  Set parameters, initialize aiplatform client library, and import needed libraries"
      ],
      "metadata": {
        "id": "_kCSZRJPmJML"
      },
      "id": "_kCSZRJPmJML"
    },
    {
      "cell_type": "code",
      "source": [
        "# Set parameters\n",
        "project_id = 'my-final-project-ise-543'\n",
        "location = 'us-central1'\n",
        "\n",
        "from google.cloud import aiplatform\n",
        "aiplatform.init(project=project_id, location=location)\n",
        "\n",
        "from kfp.v2.dsl import pipeline, component, component, InputPath, OutputPath, Dataset\n",
        "import joblib\n",
        "import gcsfs\n",
        "import fsspec\n",
        "import pandas as pd\n",
        "import numpy as np"
      ],
      "metadata": {
        "id": "UCnZak_cmJ3p",
        "executionInfo": {
          "status": "ok",
          "timestamp": 1715040807210,
          "user_tz": 420,
          "elapsed": 5202,
          "user": {
            "displayName": "",
            "userId": ""
          }
        },
        "colab": {
          "base_uri": "https://localhost:8080/"
        },
        "outputId": "f3f5916a-1411-4e72-b4b9-bb43cd07bc3f"
      },
      "id": "UCnZak_cmJ3p",
      "execution_count": null,
      "outputs": [
        {
          "output_type": "stream",
          "name": "stderr",
          "text": [
            "<ipython-input-2-ec05acad14e3>:8: DeprecationWarning: The module `kfp.v2` is deprecated and will be removed in a futureversion. Please import directly from the `kfp` namespace, instead of `kfp.v2`.\n",
            "  from kfp.v2.dsl import pipeline, component, component, InputPath, OutputPath, Dataset\n"
          ]
        }
      ]
    },
    {
      "cell_type": "markdown",
      "source": [
        "## Configure and test connections to training pipeline"
      ],
      "metadata": {
        "id": "uiIuqCMlma82"
      },
      "id": "uiIuqCMlma82"
    },
    {
      "cell_type": "markdown",
      "source": [
        "### Set up paths to artifacts"
      ],
      "metadata": {
        "id": "uET9GM4TmXvh"
      },
      "id": "uET9GM4TmXvh"
    },
    {
      "cell_type": "markdown",
      "source": [],
      "metadata": {
        "id": "JIL6K5PGmcTM"
      },
      "id": "JIL6K5PGmcTM"
    },
    {
      "cell_type": "code",
      "source": [
        "features_path= \"gs://heart_prediction/757245801734/heart-disease-prediction-pipeline-20240502233246/impute-median-training_-7069055405124485120/features\"\n",
        "median= \"gs://heart_prediction/757245801734/heart-disease-prediction-pipeline-20240502233246/impute-median-training_-7069055405124485120/median\"\n",
        "scaler_path= \"gs://heart_prediction/757245801734/heart-disease-prediction-pipeline-20240502233246/impute-median-training_-7069055405124485120/scaler_path\"\n",
        "model= \"gs://heart_prediction/757245801734/heart-disease-prediction-pipeline-20240503004309/train-random-forest_8381106066523422720/trained_model_artifact/model.joblib\""
      ],
      "metadata": {
        "id": "wNnsYFyym4Ee"
      },
      "id": "wNnsYFyym4Ee",
      "execution_count": null,
      "outputs": []
    },
    {
      "cell_type": "markdown",
      "source": [
        "### Test access to median value"
      ],
      "metadata": {
        "id": "hJ12MBlioIAt"
      },
      "id": "hJ12MBlioIAt"
    },
    {
      "cell_type": "code",
      "source": [
        "df=pd.read_csv(\"gs://heart_prediction/757245801734/vs-heart-predictions-inference-pipeline-20240503055909/perform-predictions_-6807723481434685440/predictions_path\")"
      ],
      "metadata": {
        "id": "vYVwjC1xDODK"
      },
      "id": "vYVwjC1xDODK",
      "execution_count": null,
      "outputs": []
    },
    {
      "cell_type": "code",
      "source": [
        "df"
      ],
      "metadata": {
        "colab": {
          "base_uri": "https://localhost:8080/",
          "height": 708
        },
        "id": "yFFzlGZNDjbk",
        "executionInfo": {
          "status": "ok",
          "timestamp": 1714716294837,
          "user_tz": 420,
          "elapsed": 3,
          "user": {
            "displayName": "",
            "userId": ""
          }
        },
        "outputId": "e8d5e13d-f7cf-4eec-984f-535a334303cb"
      },
      "id": "yFFzlGZNDjbk",
      "execution_count": null,
      "outputs": [
        {
          "output_type": "execute_result",
          "data": {
            "text/plain": [
              "         male       age    BPMeds  prevalentStroke  prevalentHyp  diabetes  \\\n",
              "0    1.155825 -0.187500 -0.176959        -0.079876      1.497834 -0.156893   \n",
              "1    1.155825 -0.996540 -0.176959        -0.079876     -0.667631 -0.156893   \n",
              "2    1.155825  0.505964 -0.176959        -0.079876      1.497834 -0.156893   \n",
              "3    1.155825 -1.458849 -0.176959        -0.079876      1.497834 -0.156893   \n",
              "4   -0.865183  1.546158 -0.176959        -0.079876      1.497834 -0.156893   \n",
              "..        ...       ...       ...              ...           ...       ...   \n",
              "409 -0.865183 -0.996540 -0.176959        -0.079876      1.497834 -0.156893   \n",
              "410 -0.865183 -1.458849 -0.176959        -0.079876     -0.667631 -0.156893   \n",
              "411 -0.865183  1.546158 -0.176959        -0.079876      1.497834 -0.156893   \n",
              "412  1.155825 -0.765386 -0.176959        -0.079876     -0.667631 -0.156893   \n",
              "413  1.155825  0.043655 -0.176959        -0.079876      1.497834 -0.156893   \n",
              "\n",
              "        sysBP     diaBP   glucose       a1c  TenYearCHD  \n",
              "0    0.259796  0.599806 -0.423779 -0.197943         0.0  \n",
              "1    0.304873  0.432332 -0.743051 -0.432508         0.0  \n",
              "2    0.665486 -0.739982  0.260376  0.269658         0.0  \n",
              "3   -0.348739  0.809148  0.077935 -0.025319         0.0  \n",
              "4    1.093714  0.809148 -0.104507  0.089513         0.0  \n",
              "..        ...       ...       ...       ...         ...  \n",
              "409  0.800716  0.516069  0.488428  0.819439         0.0  \n",
              "410 -1.408040 -1.158665 -0.378168 -0.473937         0.0  \n",
              "411  1.702249  1.855856  0.260376  0.209872         0.0  \n",
              "412 -0.123355  0.432332 -0.286948 -0.001806         0.0  \n",
              "413  2.107939  0.767279  0.214766  0.143202         0.0  \n",
              "\n",
              "[414 rows x 11 columns]"
            ],
            "text/html": [
              "\n",
              "  <div id=\"df-42eaffa5-b7a6-4163-83be-184f5e063375\" class=\"colab-df-container\">\n",
              "    <div>\n",
              "<style scoped>\n",
              "    .dataframe tbody tr th:only-of-type {\n",
              "        vertical-align: middle;\n",
              "    }\n",
              "\n",
              "    .dataframe tbody tr th {\n",
              "        vertical-align: top;\n",
              "    }\n",
              "\n",
              "    .dataframe thead th {\n",
              "        text-align: right;\n",
              "    }\n",
              "</style>\n",
              "<table border=\"1\" class=\"dataframe\">\n",
              "  <thead>\n",
              "    <tr style=\"text-align: right;\">\n",
              "      <th></th>\n",
              "      <th>male</th>\n",
              "      <th>age</th>\n",
              "      <th>BPMeds</th>\n",
              "      <th>prevalentStroke</th>\n",
              "      <th>prevalentHyp</th>\n",
              "      <th>diabetes</th>\n",
              "      <th>sysBP</th>\n",
              "      <th>diaBP</th>\n",
              "      <th>glucose</th>\n",
              "      <th>a1c</th>\n",
              "      <th>TenYearCHD</th>\n",
              "    </tr>\n",
              "  </thead>\n",
              "  <tbody>\n",
              "    <tr>\n",
              "      <th>0</th>\n",
              "      <td>1.155825</td>\n",
              "      <td>-0.187500</td>\n",
              "      <td>-0.176959</td>\n",
              "      <td>-0.079876</td>\n",
              "      <td>1.497834</td>\n",
              "      <td>-0.156893</td>\n",
              "      <td>0.259796</td>\n",
              "      <td>0.599806</td>\n",
              "      <td>-0.423779</td>\n",
              "      <td>-0.197943</td>\n",
              "      <td>0.0</td>\n",
              "    </tr>\n",
              "    <tr>\n",
              "      <th>1</th>\n",
              "      <td>1.155825</td>\n",
              "      <td>-0.996540</td>\n",
              "      <td>-0.176959</td>\n",
              "      <td>-0.079876</td>\n",
              "      <td>-0.667631</td>\n",
              "      <td>-0.156893</td>\n",
              "      <td>0.304873</td>\n",
              "      <td>0.432332</td>\n",
              "      <td>-0.743051</td>\n",
              "      <td>-0.432508</td>\n",
              "      <td>0.0</td>\n",
              "    </tr>\n",
              "    <tr>\n",
              "      <th>2</th>\n",
              "      <td>1.155825</td>\n",
              "      <td>0.505964</td>\n",
              "      <td>-0.176959</td>\n",
              "      <td>-0.079876</td>\n",
              "      <td>1.497834</td>\n",
              "      <td>-0.156893</td>\n",
              "      <td>0.665486</td>\n",
              "      <td>-0.739982</td>\n",
              "      <td>0.260376</td>\n",
              "      <td>0.269658</td>\n",
              "      <td>0.0</td>\n",
              "    </tr>\n",
              "    <tr>\n",
              "      <th>3</th>\n",
              "      <td>1.155825</td>\n",
              "      <td>-1.458849</td>\n",
              "      <td>-0.176959</td>\n",
              "      <td>-0.079876</td>\n",
              "      <td>1.497834</td>\n",
              "      <td>-0.156893</td>\n",
              "      <td>-0.348739</td>\n",
              "      <td>0.809148</td>\n",
              "      <td>0.077935</td>\n",
              "      <td>-0.025319</td>\n",
              "      <td>0.0</td>\n",
              "    </tr>\n",
              "    <tr>\n",
              "      <th>4</th>\n",
              "      <td>-0.865183</td>\n",
              "      <td>1.546158</td>\n",
              "      <td>-0.176959</td>\n",
              "      <td>-0.079876</td>\n",
              "      <td>1.497834</td>\n",
              "      <td>-0.156893</td>\n",
              "      <td>1.093714</td>\n",
              "      <td>0.809148</td>\n",
              "      <td>-0.104507</td>\n",
              "      <td>0.089513</td>\n",
              "      <td>0.0</td>\n",
              "    </tr>\n",
              "    <tr>\n",
              "      <th>...</th>\n",
              "      <td>...</td>\n",
              "      <td>...</td>\n",
              "      <td>...</td>\n",
              "      <td>...</td>\n",
              "      <td>...</td>\n",
              "      <td>...</td>\n",
              "      <td>...</td>\n",
              "      <td>...</td>\n",
              "      <td>...</td>\n",
              "      <td>...</td>\n",
              "      <td>...</td>\n",
              "    </tr>\n",
              "    <tr>\n",
              "      <th>409</th>\n",
              "      <td>-0.865183</td>\n",
              "      <td>-0.996540</td>\n",
              "      <td>-0.176959</td>\n",
              "      <td>-0.079876</td>\n",
              "      <td>1.497834</td>\n",
              "      <td>-0.156893</td>\n",
              "      <td>0.800716</td>\n",
              "      <td>0.516069</td>\n",
              "      <td>0.488428</td>\n",
              "      <td>0.819439</td>\n",
              "      <td>0.0</td>\n",
              "    </tr>\n",
              "    <tr>\n",
              "      <th>410</th>\n",
              "      <td>-0.865183</td>\n",
              "      <td>-1.458849</td>\n",
              "      <td>-0.176959</td>\n",
              "      <td>-0.079876</td>\n",
              "      <td>-0.667631</td>\n",
              "      <td>-0.156893</td>\n",
              "      <td>-1.408040</td>\n",
              "      <td>-1.158665</td>\n",
              "      <td>-0.378168</td>\n",
              "      <td>-0.473937</td>\n",
              "      <td>0.0</td>\n",
              "    </tr>\n",
              "    <tr>\n",
              "      <th>411</th>\n",
              "      <td>-0.865183</td>\n",
              "      <td>1.546158</td>\n",
              "      <td>-0.176959</td>\n",
              "      <td>-0.079876</td>\n",
              "      <td>1.497834</td>\n",
              "      <td>-0.156893</td>\n",
              "      <td>1.702249</td>\n",
              "      <td>1.855856</td>\n",
              "      <td>0.260376</td>\n",
              "      <td>0.209872</td>\n",
              "      <td>0.0</td>\n",
              "    </tr>\n",
              "    <tr>\n",
              "      <th>412</th>\n",
              "      <td>1.155825</td>\n",
              "      <td>-0.765386</td>\n",
              "      <td>-0.176959</td>\n",
              "      <td>-0.079876</td>\n",
              "      <td>-0.667631</td>\n",
              "      <td>-0.156893</td>\n",
              "      <td>-0.123355</td>\n",
              "      <td>0.432332</td>\n",
              "      <td>-0.286948</td>\n",
              "      <td>-0.001806</td>\n",
              "      <td>0.0</td>\n",
              "    </tr>\n",
              "    <tr>\n",
              "      <th>413</th>\n",
              "      <td>1.155825</td>\n",
              "      <td>0.043655</td>\n",
              "      <td>-0.176959</td>\n",
              "      <td>-0.079876</td>\n",
              "      <td>1.497834</td>\n",
              "      <td>-0.156893</td>\n",
              "      <td>2.107939</td>\n",
              "      <td>0.767279</td>\n",
              "      <td>0.214766</td>\n",
              "      <td>0.143202</td>\n",
              "      <td>0.0</td>\n",
              "    </tr>\n",
              "  </tbody>\n",
              "</table>\n",
              "<p>414 rows × 11 columns</p>\n",
              "</div>\n",
              "    <div class=\"colab-df-buttons\">\n",
              "\n",
              "  <div class=\"colab-df-container\">\n",
              "    <button class=\"colab-df-convert\" onclick=\"convertToInteractive('df-42eaffa5-b7a6-4163-83be-184f5e063375')\"\n",
              "            title=\"Convert this dataframe to an interactive table.\"\n",
              "            style=\"display:none;\">\n",
              "\n",
              "  <svg xmlns=\"http://www.w3.org/2000/svg\" height=\"24px\" viewBox=\"0 -960 960 960\">\n",
              "    <path d=\"M120-120v-720h720v720H120Zm60-500h600v-160H180v160Zm220 220h160v-160H400v160Zm0 220h160v-160H400v160ZM180-400h160v-160H180v160Zm440 0h160v-160H620v160ZM180-180h160v-160H180v160Zm440 0h160v-160H620v160Z\"/>\n",
              "  </svg>\n",
              "    </button>\n",
              "\n",
              "  <style>\n",
              "    .colab-df-container {\n",
              "      display:flex;\n",
              "      gap: 12px;\n",
              "    }\n",
              "\n",
              "    .colab-df-convert {\n",
              "      background-color: #E8F0FE;\n",
              "      border: none;\n",
              "      border-radius: 50%;\n",
              "      cursor: pointer;\n",
              "      display: none;\n",
              "      fill: #1967D2;\n",
              "      height: 32px;\n",
              "      padding: 0 0 0 0;\n",
              "      width: 32px;\n",
              "    }\n",
              "\n",
              "    .colab-df-convert:hover {\n",
              "      background-color: #E2EBFA;\n",
              "      box-shadow: 0px 1px 2px rgba(60, 64, 67, 0.3), 0px 1px 3px 1px rgba(60, 64, 67, 0.15);\n",
              "      fill: #174EA6;\n",
              "    }\n",
              "\n",
              "    .colab-df-buttons div {\n",
              "      margin-bottom: 4px;\n",
              "    }\n",
              "\n",
              "    [theme=dark] .colab-df-convert {\n",
              "      background-color: #3B4455;\n",
              "      fill: #D2E3FC;\n",
              "    }\n",
              "\n",
              "    [theme=dark] .colab-df-convert:hover {\n",
              "      background-color: #434B5C;\n",
              "      box-shadow: 0px 1px 3px 1px rgba(0, 0, 0, 0.15);\n",
              "      filter: drop-shadow(0px 1px 2px rgba(0, 0, 0, 0.3));\n",
              "      fill: #FFFFFF;\n",
              "    }\n",
              "  </style>\n",
              "\n",
              "    <script>\n",
              "      const buttonEl =\n",
              "        document.querySelector('#df-42eaffa5-b7a6-4163-83be-184f5e063375 button.colab-df-convert');\n",
              "      buttonEl.style.display =\n",
              "        google.colab.kernel.accessAllowed ? 'block' : 'none';\n",
              "\n",
              "      async function convertToInteractive(key) {\n",
              "        const element = document.querySelector('#df-42eaffa5-b7a6-4163-83be-184f5e063375');\n",
              "        const dataTable =\n",
              "          await google.colab.kernel.invokeFunction('convertToInteractive',\n",
              "                                                    [key], {});\n",
              "        if (!dataTable) return;\n",
              "\n",
              "        const docLinkHtml = 'Like what you see? Visit the ' +\n",
              "          '<a target=\"_blank\" href=https://colab.research.google.com/notebooks/data_table.ipynb>data table notebook</a>'\n",
              "          + ' to learn more about interactive tables.';\n",
              "        element.innerHTML = '';\n",
              "        dataTable['output_type'] = 'display_data';\n",
              "        await google.colab.output.renderOutput(dataTable, element);\n",
              "        const docLink = document.createElement('div');\n",
              "        docLink.innerHTML = docLinkHtml;\n",
              "        element.appendChild(docLink);\n",
              "      }\n",
              "    </script>\n",
              "  </div>\n",
              "\n",
              "\n",
              "<div id=\"df-b451c4dd-a7d9-477a-867f-be12fd46ec71\">\n",
              "  <button class=\"colab-df-quickchart\" onclick=\"quickchart('df-b451c4dd-a7d9-477a-867f-be12fd46ec71')\"\n",
              "            title=\"Suggest charts\"\n",
              "            style=\"display:none;\">\n",
              "\n",
              "<svg xmlns=\"http://www.w3.org/2000/svg\" height=\"24px\"viewBox=\"0 0 24 24\"\n",
              "     width=\"24px\">\n",
              "    <g>\n",
              "        <path d=\"M19 3H5c-1.1 0-2 .9-2 2v14c0 1.1.9 2 2 2h14c1.1 0 2-.9 2-2V5c0-1.1-.9-2-2-2zM9 17H7v-7h2v7zm4 0h-2V7h2v10zm4 0h-2v-4h2v4z\"/>\n",
              "    </g>\n",
              "</svg>\n",
              "  </button>\n",
              "\n",
              "<style>\n",
              "  .colab-df-quickchart {\n",
              "      --bg-color: #E8F0FE;\n",
              "      --fill-color: #1967D2;\n",
              "      --hover-bg-color: #E2EBFA;\n",
              "      --hover-fill-color: #174EA6;\n",
              "      --disabled-fill-color: #AAA;\n",
              "      --disabled-bg-color: #DDD;\n",
              "  }\n",
              "\n",
              "  [theme=dark] .colab-df-quickchart {\n",
              "      --bg-color: #3B4455;\n",
              "      --fill-color: #D2E3FC;\n",
              "      --hover-bg-color: #434B5C;\n",
              "      --hover-fill-color: #FFFFFF;\n",
              "      --disabled-bg-color: #3B4455;\n",
              "      --disabled-fill-color: #666;\n",
              "  }\n",
              "\n",
              "  .colab-df-quickchart {\n",
              "    background-color: var(--bg-color);\n",
              "    border: none;\n",
              "    border-radius: 50%;\n",
              "    cursor: pointer;\n",
              "    display: none;\n",
              "    fill: var(--fill-color);\n",
              "    height: 32px;\n",
              "    padding: 0;\n",
              "    width: 32px;\n",
              "  }\n",
              "\n",
              "  .colab-df-quickchart:hover {\n",
              "    background-color: var(--hover-bg-color);\n",
              "    box-shadow: 0 1px 2px rgba(60, 64, 67, 0.3), 0 1px 3px 1px rgba(60, 64, 67, 0.15);\n",
              "    fill: var(--button-hover-fill-color);\n",
              "  }\n",
              "\n",
              "  .colab-df-quickchart-complete:disabled,\n",
              "  .colab-df-quickchart-complete:disabled:hover {\n",
              "    background-color: var(--disabled-bg-color);\n",
              "    fill: var(--disabled-fill-color);\n",
              "    box-shadow: none;\n",
              "  }\n",
              "\n",
              "  .colab-df-spinner {\n",
              "    border: 2px solid var(--fill-color);\n",
              "    border-color: transparent;\n",
              "    border-bottom-color: var(--fill-color);\n",
              "    animation:\n",
              "      spin 1s steps(1) infinite;\n",
              "  }\n",
              "\n",
              "  @keyframes spin {\n",
              "    0% {\n",
              "      border-color: transparent;\n",
              "      border-bottom-color: var(--fill-color);\n",
              "      border-left-color: var(--fill-color);\n",
              "    }\n",
              "    20% {\n",
              "      border-color: transparent;\n",
              "      border-left-color: var(--fill-color);\n",
              "      border-top-color: var(--fill-color);\n",
              "    }\n",
              "    30% {\n",
              "      border-color: transparent;\n",
              "      border-left-color: var(--fill-color);\n",
              "      border-top-color: var(--fill-color);\n",
              "      border-right-color: var(--fill-color);\n",
              "    }\n",
              "    40% {\n",
              "      border-color: transparent;\n",
              "      border-right-color: var(--fill-color);\n",
              "      border-top-color: var(--fill-color);\n",
              "    }\n",
              "    60% {\n",
              "      border-color: transparent;\n",
              "      border-right-color: var(--fill-color);\n",
              "    }\n",
              "    80% {\n",
              "      border-color: transparent;\n",
              "      border-right-color: var(--fill-color);\n",
              "      border-bottom-color: var(--fill-color);\n",
              "    }\n",
              "    90% {\n",
              "      border-color: transparent;\n",
              "      border-bottom-color: var(--fill-color);\n",
              "    }\n",
              "  }\n",
              "</style>\n",
              "\n",
              "  <script>\n",
              "    async function quickchart(key) {\n",
              "      const quickchartButtonEl =\n",
              "        document.querySelector('#' + key + ' button');\n",
              "      quickchartButtonEl.disabled = true;  // To prevent multiple clicks.\n",
              "      quickchartButtonEl.classList.add('colab-df-spinner');\n",
              "      try {\n",
              "        const charts = await google.colab.kernel.invokeFunction(\n",
              "            'suggestCharts', [key], {});\n",
              "      } catch (error) {\n",
              "        console.error('Error during call to suggestCharts:', error);\n",
              "      }\n",
              "      quickchartButtonEl.classList.remove('colab-df-spinner');\n",
              "      quickchartButtonEl.classList.add('colab-df-quickchart-complete');\n",
              "    }\n",
              "    (() => {\n",
              "      let quickchartButtonEl =\n",
              "        document.querySelector('#df-b451c4dd-a7d9-477a-867f-be12fd46ec71 button');\n",
              "      quickchartButtonEl.style.display =\n",
              "        google.colab.kernel.accessAllowed ? 'block' : 'none';\n",
              "    })();\n",
              "  </script>\n",
              "</div>\n",
              "    </div>\n",
              "  </div>\n"
            ]
          },
          "metadata": {},
          "execution_count": 82
        }
      ]
    },
    {
      "cell_type": "code",
      "source": [
        "median=pd.read_csv(median)\n"
      ],
      "metadata": {
        "id": "Zyx0uryGoFMW"
      },
      "id": "Zyx0uryGoFMW",
      "execution_count": null,
      "outputs": []
    },
    {
      "cell_type": "code",
      "source": [
        "median"
      ],
      "metadata": {
        "colab": {
          "base_uri": "https://localhost:8080/",
          "height": 206
        },
        "id": "tTX5u4MMojZK",
        "executionInfo": {
          "status": "ok",
          "timestamp": 1714709218559,
          "user_tz": 420,
          "elapsed": 231,
          "user": {
            "displayName": "",
            "userId": ""
          }
        },
        "outputId": "818d097b-026c-4bef-e77c-2f1dcb34a438"
      },
      "id": "tTX5u4MMojZK",
      "execution_count": null,
      "outputs": [
        {
          "output_type": "execute_result",
          "data": {
            "text/plain": [
              "      Column      Median\n",
              "0    totChol  234.000000\n",
              "1        BMI   25.420000\n",
              "2  heartRate   75.000000\n",
              "3        a1c    4.126046\n",
              "4    glucose   78.000000"
            ],
            "text/html": [
              "\n",
              "  <div id=\"df-cd05269e-1ae2-491d-be6b-6e89ae34b878\" class=\"colab-df-container\">\n",
              "    <div>\n",
              "<style scoped>\n",
              "    .dataframe tbody tr th:only-of-type {\n",
              "        vertical-align: middle;\n",
              "    }\n",
              "\n",
              "    .dataframe tbody tr th {\n",
              "        vertical-align: top;\n",
              "    }\n",
              "\n",
              "    .dataframe thead th {\n",
              "        text-align: right;\n",
              "    }\n",
              "</style>\n",
              "<table border=\"1\" class=\"dataframe\">\n",
              "  <thead>\n",
              "    <tr style=\"text-align: right;\">\n",
              "      <th></th>\n",
              "      <th>Column</th>\n",
              "      <th>Median</th>\n",
              "    </tr>\n",
              "  </thead>\n",
              "  <tbody>\n",
              "    <tr>\n",
              "      <th>0</th>\n",
              "      <td>totChol</td>\n",
              "      <td>234.000000</td>\n",
              "    </tr>\n",
              "    <tr>\n",
              "      <th>1</th>\n",
              "      <td>BMI</td>\n",
              "      <td>25.420000</td>\n",
              "    </tr>\n",
              "    <tr>\n",
              "      <th>2</th>\n",
              "      <td>heartRate</td>\n",
              "      <td>75.000000</td>\n",
              "    </tr>\n",
              "    <tr>\n",
              "      <th>3</th>\n",
              "      <td>a1c</td>\n",
              "      <td>4.126046</td>\n",
              "    </tr>\n",
              "    <tr>\n",
              "      <th>4</th>\n",
              "      <td>glucose</td>\n",
              "      <td>78.000000</td>\n",
              "    </tr>\n",
              "  </tbody>\n",
              "</table>\n",
              "</div>\n",
              "    <div class=\"colab-df-buttons\">\n",
              "\n",
              "  <div class=\"colab-df-container\">\n",
              "    <button class=\"colab-df-convert\" onclick=\"convertToInteractive('df-cd05269e-1ae2-491d-be6b-6e89ae34b878')\"\n",
              "            title=\"Convert this dataframe to an interactive table.\"\n",
              "            style=\"display:none;\">\n",
              "\n",
              "  <svg xmlns=\"http://www.w3.org/2000/svg\" height=\"24px\" viewBox=\"0 -960 960 960\">\n",
              "    <path d=\"M120-120v-720h720v720H120Zm60-500h600v-160H180v160Zm220 220h160v-160H400v160Zm0 220h160v-160H400v160ZM180-400h160v-160H180v160Zm440 0h160v-160H620v160ZM180-180h160v-160H180v160Zm440 0h160v-160H620v160Z\"/>\n",
              "  </svg>\n",
              "    </button>\n",
              "\n",
              "  <style>\n",
              "    .colab-df-container {\n",
              "      display:flex;\n",
              "      gap: 12px;\n",
              "    }\n",
              "\n",
              "    .colab-df-convert {\n",
              "      background-color: #E8F0FE;\n",
              "      border: none;\n",
              "      border-radius: 50%;\n",
              "      cursor: pointer;\n",
              "      display: none;\n",
              "      fill: #1967D2;\n",
              "      height: 32px;\n",
              "      padding: 0 0 0 0;\n",
              "      width: 32px;\n",
              "    }\n",
              "\n",
              "    .colab-df-convert:hover {\n",
              "      background-color: #E2EBFA;\n",
              "      box-shadow: 0px 1px 2px rgba(60, 64, 67, 0.3), 0px 1px 3px 1px rgba(60, 64, 67, 0.15);\n",
              "      fill: #174EA6;\n",
              "    }\n",
              "\n",
              "    .colab-df-buttons div {\n",
              "      margin-bottom: 4px;\n",
              "    }\n",
              "\n",
              "    [theme=dark] .colab-df-convert {\n",
              "      background-color: #3B4455;\n",
              "      fill: #D2E3FC;\n",
              "    }\n",
              "\n",
              "    [theme=dark] .colab-df-convert:hover {\n",
              "      background-color: #434B5C;\n",
              "      box-shadow: 0px 1px 3px 1px rgba(0, 0, 0, 0.15);\n",
              "      filter: drop-shadow(0px 1px 2px rgba(0, 0, 0, 0.3));\n",
              "      fill: #FFFFFF;\n",
              "    }\n",
              "  </style>\n",
              "\n",
              "    <script>\n",
              "      const buttonEl =\n",
              "        document.querySelector('#df-cd05269e-1ae2-491d-be6b-6e89ae34b878 button.colab-df-convert');\n",
              "      buttonEl.style.display =\n",
              "        google.colab.kernel.accessAllowed ? 'block' : 'none';\n",
              "\n",
              "      async function convertToInteractive(key) {\n",
              "        const element = document.querySelector('#df-cd05269e-1ae2-491d-be6b-6e89ae34b878');\n",
              "        const dataTable =\n",
              "          await google.colab.kernel.invokeFunction('convertToInteractive',\n",
              "                                                    [key], {});\n",
              "        if (!dataTable) return;\n",
              "\n",
              "        const docLinkHtml = 'Like what you see? Visit the ' +\n",
              "          '<a target=\"_blank\" href=https://colab.research.google.com/notebooks/data_table.ipynb>data table notebook</a>'\n",
              "          + ' to learn more about interactive tables.';\n",
              "        element.innerHTML = '';\n",
              "        dataTable['output_type'] = 'display_data';\n",
              "        await google.colab.output.renderOutput(dataTable, element);\n",
              "        const docLink = document.createElement('div');\n",
              "        docLink.innerHTML = docLinkHtml;\n",
              "        element.appendChild(docLink);\n",
              "      }\n",
              "    </script>\n",
              "  </div>\n",
              "\n",
              "\n",
              "<div id=\"df-61bc2c05-936c-4a91-9d24-758f18e44d50\">\n",
              "  <button class=\"colab-df-quickchart\" onclick=\"quickchart('df-61bc2c05-936c-4a91-9d24-758f18e44d50')\"\n",
              "            title=\"Suggest charts\"\n",
              "            style=\"display:none;\">\n",
              "\n",
              "<svg xmlns=\"http://www.w3.org/2000/svg\" height=\"24px\"viewBox=\"0 0 24 24\"\n",
              "     width=\"24px\">\n",
              "    <g>\n",
              "        <path d=\"M19 3H5c-1.1 0-2 .9-2 2v14c0 1.1.9 2 2 2h14c1.1 0 2-.9 2-2V5c0-1.1-.9-2-2-2zM9 17H7v-7h2v7zm4 0h-2V7h2v10zm4 0h-2v-4h2v4z\"/>\n",
              "    </g>\n",
              "</svg>\n",
              "  </button>\n",
              "\n",
              "<style>\n",
              "  .colab-df-quickchart {\n",
              "      --bg-color: #E8F0FE;\n",
              "      --fill-color: #1967D2;\n",
              "      --hover-bg-color: #E2EBFA;\n",
              "      --hover-fill-color: #174EA6;\n",
              "      --disabled-fill-color: #AAA;\n",
              "      --disabled-bg-color: #DDD;\n",
              "  }\n",
              "\n",
              "  [theme=dark] .colab-df-quickchart {\n",
              "      --bg-color: #3B4455;\n",
              "      --fill-color: #D2E3FC;\n",
              "      --hover-bg-color: #434B5C;\n",
              "      --hover-fill-color: #FFFFFF;\n",
              "      --disabled-bg-color: #3B4455;\n",
              "      --disabled-fill-color: #666;\n",
              "  }\n",
              "\n",
              "  .colab-df-quickchart {\n",
              "    background-color: var(--bg-color);\n",
              "    border: none;\n",
              "    border-radius: 50%;\n",
              "    cursor: pointer;\n",
              "    display: none;\n",
              "    fill: var(--fill-color);\n",
              "    height: 32px;\n",
              "    padding: 0;\n",
              "    width: 32px;\n",
              "  }\n",
              "\n",
              "  .colab-df-quickchart:hover {\n",
              "    background-color: var(--hover-bg-color);\n",
              "    box-shadow: 0 1px 2px rgba(60, 64, 67, 0.3), 0 1px 3px 1px rgba(60, 64, 67, 0.15);\n",
              "    fill: var(--button-hover-fill-color);\n",
              "  }\n",
              "\n",
              "  .colab-df-quickchart-complete:disabled,\n",
              "  .colab-df-quickchart-complete:disabled:hover {\n",
              "    background-color: var(--disabled-bg-color);\n",
              "    fill: var(--disabled-fill-color);\n",
              "    box-shadow: none;\n",
              "  }\n",
              "\n",
              "  .colab-df-spinner {\n",
              "    border: 2px solid var(--fill-color);\n",
              "    border-color: transparent;\n",
              "    border-bottom-color: var(--fill-color);\n",
              "    animation:\n",
              "      spin 1s steps(1) infinite;\n",
              "  }\n",
              "\n",
              "  @keyframes spin {\n",
              "    0% {\n",
              "      border-color: transparent;\n",
              "      border-bottom-color: var(--fill-color);\n",
              "      border-left-color: var(--fill-color);\n",
              "    }\n",
              "    20% {\n",
              "      border-color: transparent;\n",
              "      border-left-color: var(--fill-color);\n",
              "      border-top-color: var(--fill-color);\n",
              "    }\n",
              "    30% {\n",
              "      border-color: transparent;\n",
              "      border-left-color: var(--fill-color);\n",
              "      border-top-color: var(--fill-color);\n",
              "      border-right-color: var(--fill-color);\n",
              "    }\n",
              "    40% {\n",
              "      border-color: transparent;\n",
              "      border-right-color: var(--fill-color);\n",
              "      border-top-color: var(--fill-color);\n",
              "    }\n",
              "    60% {\n",
              "      border-color: transparent;\n",
              "      border-right-color: var(--fill-color);\n",
              "    }\n",
              "    80% {\n",
              "      border-color: transparent;\n",
              "      border-right-color: var(--fill-color);\n",
              "      border-bottom-color: var(--fill-color);\n",
              "    }\n",
              "    90% {\n",
              "      border-color: transparent;\n",
              "      border-bottom-color: var(--fill-color);\n",
              "    }\n",
              "  }\n",
              "</style>\n",
              "\n",
              "  <script>\n",
              "    async function quickchart(key) {\n",
              "      const quickchartButtonEl =\n",
              "        document.querySelector('#' + key + ' button');\n",
              "      quickchartButtonEl.disabled = true;  // To prevent multiple clicks.\n",
              "      quickchartButtonEl.classList.add('colab-df-spinner');\n",
              "      try {\n",
              "        const charts = await google.colab.kernel.invokeFunction(\n",
              "            'suggestCharts', [key], {});\n",
              "      } catch (error) {\n",
              "        console.error('Error during call to suggestCharts:', error);\n",
              "      }\n",
              "      quickchartButtonEl.classList.remove('colab-df-spinner');\n",
              "      quickchartButtonEl.classList.add('colab-df-quickchart-complete');\n",
              "    }\n",
              "    (() => {\n",
              "      let quickchartButtonEl =\n",
              "        document.querySelector('#df-61bc2c05-936c-4a91-9d24-758f18e44d50 button');\n",
              "      quickchartButtonEl.style.display =\n",
              "        google.colab.kernel.accessAllowed ? 'block' : 'none';\n",
              "    })();\n",
              "  </script>\n",
              "</div>\n",
              "    </div>\n",
              "  </div>\n"
            ]
          },
          "metadata": {},
          "execution_count": 12
        }
      ]
    },
    {
      "cell_type": "markdown",
      "source": [
        "## retrive features"
      ],
      "metadata": {
        "id": "8H-Mnvh-omVO"
      },
      "id": "8H-Mnvh-omVO"
    },
    {
      "cell_type": "code",
      "source": [
        "# Create a GCS file system object\n",
        "fs = gcsfs.GCSFileSystem()\n",
        "\n",
        "with fs.open(features_path, 'rb') as f:\n",
        "    features = joblib.load(f)\n",
        "\n",
        "features"
      ],
      "metadata": {
        "colab": {
          "base_uri": "https://localhost:8080/"
        },
        "id": "P6YRDR6GoqKm",
        "executionInfo": {
          "status": "ok",
          "timestamp": 1714709473149,
          "user_tz": 420,
          "elapsed": 199,
          "user": {
            "displayName": "",
            "userId": ""
          }
        },
        "outputId": "3e735fe2-00a6-449c-bf3c-a9129e54c8cf"
      },
      "id": "P6YRDR6GoqKm",
      "execution_count": null,
      "outputs": [
        {
          "output_type": "execute_result",
          "data": {
            "text/plain": [
              "['male',\n",
              " 'age',\n",
              " 'BPMeds',\n",
              " 'prevalentStroke',\n",
              " 'prevalentHyp',\n",
              " 'diabetes',\n",
              " 'sysBP',\n",
              " 'diaBP',\n",
              " 'glucose',\n",
              " 'a1c']"
            ]
          },
          "metadata": {},
          "execution_count": 24
        }
      ]
    },
    {
      "cell_type": "markdown",
      "source": [
        "# retrive scalar"
      ],
      "metadata": {
        "id": "qf-zhUaSowPs"
      },
      "id": "qf-zhUaSowPs"
    },
    {
      "cell_type": "code",
      "source": [
        "# Create a GCS file system object\n",
        "fs = gcsfs.GCSFileSystem()\n",
        "\n",
        "with fs.open(scaler_path, 'rb') as f:\n",
        "    scaler = joblib.load(f)\n",
        "\n",
        "scaler"
      ],
      "metadata": {
        "colab": {
          "base_uri": "https://localhost:8080/",
          "height": 147
        },
        "id": "5A-G2JIbowfl",
        "executionInfo": {
          "status": "ok",
          "timestamp": 1714709289079,
          "user_tz": 420,
          "elapsed": 3062,
          "user": {
            "displayName": "",
            "userId": ""
          }
        },
        "outputId": "e90ddc22-3965-4e09-982a-6c671ff0cb05"
      },
      "id": "5A-G2JIbowfl",
      "execution_count": null,
      "outputs": [
        {
          "output_type": "stream",
          "name": "stderr",
          "text": [
            "/usr/local/lib/python3.10/dist-packages/sklearn/base.py:318: UserWarning: Trying to unpickle estimator StandardScaler from version 1.0.2 when using version 1.2.2. This might lead to breaking code or invalid results. Use at your own risk. For more info please refer to:\n",
            "https://scikit-learn.org/stable/model_persistence.html#security-maintainability-limitations\n",
            "  warnings.warn(\n"
          ]
        },
        {
          "output_type": "execute_result",
          "data": {
            "text/plain": [
              "StandardScaler()"
            ],
            "text/html": [
              "<style>#sk-container-id-1 {color: black;background-color: white;}#sk-container-id-1 pre{padding: 0;}#sk-container-id-1 div.sk-toggleable {background-color: white;}#sk-container-id-1 label.sk-toggleable__label {cursor: pointer;display: block;width: 100%;margin-bottom: 0;padding: 0.3em;box-sizing: border-box;text-align: center;}#sk-container-id-1 label.sk-toggleable__label-arrow:before {content: \"▸\";float: left;margin-right: 0.25em;color: #696969;}#sk-container-id-1 label.sk-toggleable__label-arrow:hover:before {color: black;}#sk-container-id-1 div.sk-estimator:hover label.sk-toggleable__label-arrow:before {color: black;}#sk-container-id-1 div.sk-toggleable__content {max-height: 0;max-width: 0;overflow: hidden;text-align: left;background-color: #f0f8ff;}#sk-container-id-1 div.sk-toggleable__content pre {margin: 0.2em;color: black;border-radius: 0.25em;background-color: #f0f8ff;}#sk-container-id-1 input.sk-toggleable__control:checked~div.sk-toggleable__content {max-height: 200px;max-width: 100%;overflow: auto;}#sk-container-id-1 input.sk-toggleable__control:checked~label.sk-toggleable__label-arrow:before {content: \"▾\";}#sk-container-id-1 div.sk-estimator input.sk-toggleable__control:checked~label.sk-toggleable__label {background-color: #d4ebff;}#sk-container-id-1 div.sk-label input.sk-toggleable__control:checked~label.sk-toggleable__label {background-color: #d4ebff;}#sk-container-id-1 input.sk-hidden--visually {border: 0;clip: rect(1px 1px 1px 1px);clip: rect(1px, 1px, 1px, 1px);height: 1px;margin: -1px;overflow: hidden;padding: 0;position: absolute;width: 1px;}#sk-container-id-1 div.sk-estimator {font-family: monospace;background-color: #f0f8ff;border: 1px dotted black;border-radius: 0.25em;box-sizing: border-box;margin-bottom: 0.5em;}#sk-container-id-1 div.sk-estimator:hover {background-color: #d4ebff;}#sk-container-id-1 div.sk-parallel-item::after {content: \"\";width: 100%;border-bottom: 1px solid gray;flex-grow: 1;}#sk-container-id-1 div.sk-label:hover label.sk-toggleable__label {background-color: #d4ebff;}#sk-container-id-1 div.sk-serial::before {content: \"\";position: absolute;border-left: 1px solid gray;box-sizing: border-box;top: 0;bottom: 0;left: 50%;z-index: 0;}#sk-container-id-1 div.sk-serial {display: flex;flex-direction: column;align-items: center;background-color: white;padding-right: 0.2em;padding-left: 0.2em;position: relative;}#sk-container-id-1 div.sk-item {position: relative;z-index: 1;}#sk-container-id-1 div.sk-parallel {display: flex;align-items: stretch;justify-content: center;background-color: white;position: relative;}#sk-container-id-1 div.sk-item::before, #sk-container-id-1 div.sk-parallel-item::before {content: \"\";position: absolute;border-left: 1px solid gray;box-sizing: border-box;top: 0;bottom: 0;left: 50%;z-index: -1;}#sk-container-id-1 div.sk-parallel-item {display: flex;flex-direction: column;z-index: 1;position: relative;background-color: white;}#sk-container-id-1 div.sk-parallel-item:first-child::after {align-self: flex-end;width: 50%;}#sk-container-id-1 div.sk-parallel-item:last-child::after {align-self: flex-start;width: 50%;}#sk-container-id-1 div.sk-parallel-item:only-child::after {width: 0;}#sk-container-id-1 div.sk-dashed-wrapped {border: 1px dashed gray;margin: 0 0.4em 0.5em 0.4em;box-sizing: border-box;padding-bottom: 0.4em;background-color: white;}#sk-container-id-1 div.sk-label label {font-family: monospace;font-weight: bold;display: inline-block;line-height: 1.2em;}#sk-container-id-1 div.sk-label-container {text-align: center;}#sk-container-id-1 div.sk-container {/* jupyter's `normalize.less` sets `[hidden] { display: none; }` but bootstrap.min.css set `[hidden] { display: none !important; }` so we also need the `!important` here to be able to override the default hidden behavior on the sphinx rendered scikit-learn.org. See: https://github.com/scikit-learn/scikit-learn/issues/21755 */display: inline-block !important;position: relative;}#sk-container-id-1 div.sk-text-repr-fallback {display: none;}</style><div id=\"sk-container-id-1\" class=\"sk-top-container\"><div class=\"sk-text-repr-fallback\"><pre>StandardScaler()</pre><b>In a Jupyter environment, please rerun this cell to show the HTML representation or trust the notebook. <br />On GitHub, the HTML representation is unable to render, please try loading this page with nbviewer.org.</b></div><div class=\"sk-container\" hidden><div class=\"sk-item\"><div class=\"sk-estimator sk-toggleable\"><input class=\"sk-toggleable__control sk-hidden--visually\" id=\"sk-estimator-id-1\" type=\"checkbox\" checked><label for=\"sk-estimator-id-1\" class=\"sk-toggleable__label sk-toggleable__label-arrow\">StandardScaler</label><div class=\"sk-toggleable__content\"><pre>StandardScaler()</pre></div></div></div></div></div>"
            ]
          },
          "metadata": {},
          "execution_count": 15
        }
      ]
    },
    {
      "cell_type": "markdown",
      "source": [
        "## retrive model"
      ],
      "metadata": {
        "id": "f1ZE2BHwo23v"
      },
      "id": "f1ZE2BHwo23v"
    },
    {
      "cell_type": "code",
      "source": [
        "# Create a GCS file system object\n",
        "fs = gcsfs.GCSFileSystem()\n",
        "\n",
        "with fs.open(model, 'rb') as f:\n",
        "   model = joblib.load(f)\n",
        "\n",
        "model"
      ],
      "metadata": {
        "colab": {
          "base_uri": "https://localhost:8080/",
          "height": 75
        },
        "id": "QZL5HRxco3LC",
        "executionInfo": {
          "status": "ok",
          "timestamp": 1714709345231,
          "user_tz": 420,
          "elapsed": 856,
          "user": {
            "displayName": "",
            "userId": ""
          }
        },
        "outputId": "816e1b7f-7954-41b5-fb10-1785f6426b8d"
      },
      "id": "QZL5HRxco3LC",
      "execution_count": null,
      "outputs": [
        {
          "output_type": "execute_result",
          "data": {
            "text/plain": [
              "RandomForestClassifier(max_features='auto')"
            ],
            "text/html": [
              "<style>#sk-container-id-3 {color: black;background-color: white;}#sk-container-id-3 pre{padding: 0;}#sk-container-id-3 div.sk-toggleable {background-color: white;}#sk-container-id-3 label.sk-toggleable__label {cursor: pointer;display: block;width: 100%;margin-bottom: 0;padding: 0.3em;box-sizing: border-box;text-align: center;}#sk-container-id-3 label.sk-toggleable__label-arrow:before {content: \"▸\";float: left;margin-right: 0.25em;color: #696969;}#sk-container-id-3 label.sk-toggleable__label-arrow:hover:before {color: black;}#sk-container-id-3 div.sk-estimator:hover label.sk-toggleable__label-arrow:before {color: black;}#sk-container-id-3 div.sk-toggleable__content {max-height: 0;max-width: 0;overflow: hidden;text-align: left;background-color: #f0f8ff;}#sk-container-id-3 div.sk-toggleable__content pre {margin: 0.2em;color: black;border-radius: 0.25em;background-color: #f0f8ff;}#sk-container-id-3 input.sk-toggleable__control:checked~div.sk-toggleable__content {max-height: 200px;max-width: 100%;overflow: auto;}#sk-container-id-3 input.sk-toggleable__control:checked~label.sk-toggleable__label-arrow:before {content: \"▾\";}#sk-container-id-3 div.sk-estimator input.sk-toggleable__control:checked~label.sk-toggleable__label {background-color: #d4ebff;}#sk-container-id-3 div.sk-label input.sk-toggleable__control:checked~label.sk-toggleable__label {background-color: #d4ebff;}#sk-container-id-3 input.sk-hidden--visually {border: 0;clip: rect(1px 1px 1px 1px);clip: rect(1px, 1px, 1px, 1px);height: 1px;margin: -1px;overflow: hidden;padding: 0;position: absolute;width: 1px;}#sk-container-id-3 div.sk-estimator {font-family: monospace;background-color: #f0f8ff;border: 1px dotted black;border-radius: 0.25em;box-sizing: border-box;margin-bottom: 0.5em;}#sk-container-id-3 div.sk-estimator:hover {background-color: #d4ebff;}#sk-container-id-3 div.sk-parallel-item::after {content: \"\";width: 100%;border-bottom: 1px solid gray;flex-grow: 1;}#sk-container-id-3 div.sk-label:hover label.sk-toggleable__label {background-color: #d4ebff;}#sk-container-id-3 div.sk-serial::before {content: \"\";position: absolute;border-left: 1px solid gray;box-sizing: border-box;top: 0;bottom: 0;left: 50%;z-index: 0;}#sk-container-id-3 div.sk-serial {display: flex;flex-direction: column;align-items: center;background-color: white;padding-right: 0.2em;padding-left: 0.2em;position: relative;}#sk-container-id-3 div.sk-item {position: relative;z-index: 1;}#sk-container-id-3 div.sk-parallel {display: flex;align-items: stretch;justify-content: center;background-color: white;position: relative;}#sk-container-id-3 div.sk-item::before, #sk-container-id-3 div.sk-parallel-item::before {content: \"\";position: absolute;border-left: 1px solid gray;box-sizing: border-box;top: 0;bottom: 0;left: 50%;z-index: -1;}#sk-container-id-3 div.sk-parallel-item {display: flex;flex-direction: column;z-index: 1;position: relative;background-color: white;}#sk-container-id-3 div.sk-parallel-item:first-child::after {align-self: flex-end;width: 50%;}#sk-container-id-3 div.sk-parallel-item:last-child::after {align-self: flex-start;width: 50%;}#sk-container-id-3 div.sk-parallel-item:only-child::after {width: 0;}#sk-container-id-3 div.sk-dashed-wrapped {border: 1px dashed gray;margin: 0 0.4em 0.5em 0.4em;box-sizing: border-box;padding-bottom: 0.4em;background-color: white;}#sk-container-id-3 div.sk-label label {font-family: monospace;font-weight: bold;display: inline-block;line-height: 1.2em;}#sk-container-id-3 div.sk-label-container {text-align: center;}#sk-container-id-3 div.sk-container {/* jupyter's `normalize.less` sets `[hidden] { display: none; }` but bootstrap.min.css set `[hidden] { display: none !important; }` so we also need the `!important` here to be able to override the default hidden behavior on the sphinx rendered scikit-learn.org. See: https://github.com/scikit-learn/scikit-learn/issues/21755 */display: inline-block !important;position: relative;}#sk-container-id-3 div.sk-text-repr-fallback {display: none;}</style><div id=\"sk-container-id-3\" class=\"sk-top-container\"><div class=\"sk-text-repr-fallback\"><pre>RandomForestClassifier(max_features=&#x27;auto&#x27;)</pre><b>In a Jupyter environment, please rerun this cell to show the HTML representation or trust the notebook. <br />On GitHub, the HTML representation is unable to render, please try loading this page with nbviewer.org.</b></div><div class=\"sk-container\" hidden><div class=\"sk-item\"><div class=\"sk-estimator sk-toggleable\"><input class=\"sk-toggleable__control sk-hidden--visually\" id=\"sk-estimator-id-3\" type=\"checkbox\" checked><label for=\"sk-estimator-id-3\" class=\"sk-toggleable__label sk-toggleable__label-arrow\">RandomForestClassifier</label><div class=\"sk-toggleable__content\"><pre>RandomForestClassifier(max_features=&#x27;auto&#x27;)</pre></div></div></div></div></div>"
            ]
          },
          "metadata": {},
          "execution_count": 22
        }
      ]
    },
    {
      "cell_type": "markdown",
      "source": [
        "#Define components"
      ],
      "metadata": {
        "id": "L5VHjhxkpuFq"
      },
      "id": "L5VHjhxkpuFq"
    },
    {
      "cell_type": "markdown",
      "source": [
        "## Common dataset preparation steps"
      ],
      "metadata": {
        "id": "A7mbIF-UpuwO"
      },
      "id": "A7mbIF-UpuwO"
    },
    {
      "cell_type": "code",
      "source": [
        "@component(packages_to_install=[\"pandas\", \"numpy\", \"fsspec\", \"gcsfs\"])\n",
        "def perform_initial_data_preparation(input_dataset_path: str, output_dataset_path: OutputPath(Dataset)):\n",
        "    import pandas as pd\n",
        "    import numpy as np\n",
        "\n",
        "    df = pd.read_csv(input_dataset_path)\n",
        "\n",
        "    # Filling all the Nan value of cigsPerDay with zero for the rows with current Smoker=0\n",
        "    df.loc[df['currentSmoker']==0,['cigsPerDay']]=df.loc[df['currentSmoker']==0,['cigsPerDay']].fillna(0)\n",
        "\n",
        "\n",
        "\n",
        "    # create a new label of 0 for all the NA values in education\n",
        "    df['education']=df['education'].fillna(0)\n",
        "\n",
        "    # Clip the column to remove outliers\n",
        "    clipped_column = df['totChol'].clip( upper=500)\n",
        "\n",
        "    # Replace the original column with the clipped column\n",
        "    df['totChol']=clipped_column\n",
        "\n",
        "    #applying log Tranfomation\n",
        "    col=['glucose','income','a1c']\n",
        "\n",
        "    for col in col:\n",
        "      df[col]=np.log(df[col]+1)\n",
        "\n",
        "\n",
        "    df.to_csv(output_dataset_path, index=False)\n",
        "\n"
      ],
      "metadata": {
        "id": "_kvYhlbmpxiL",
        "executionInfo": {
          "status": "ok",
          "timestamp": 1715040807210,
          "user_tz": 420,
          "elapsed": 2,
          "user": {
            "displayName": "",
            "userId": ""
          }
        },
        "colab": {
          "base_uri": "https://localhost:8080/"
        },
        "outputId": "968461d3-2b85-4c63-8417-2e431b7926ef"
      },
      "id": "_kvYhlbmpxiL",
      "execution_count": null,
      "outputs": [
        {
          "output_type": "stream",
          "name": "stderr",
          "text": [
            "/usr/local/lib/python3.10/dist-packages/kfp/dsl/component_decorator.py:119: FutureWarning: Python 3.7 has reached end-of-life. The default base_image used by the @dsl.component decorator will switch from 'python:3.7' to 'python:3.8' on April 23, 2024. To ensure your existing components work with versions of the KFP SDK released after that date, you should provide an explicit base_image argument and ensure your component works as intended on Python 3.8.\n",
            "  return component_factory.create_component_from_func(\n"
          ]
        }
      ]
    },
    {
      "cell_type": "markdown",
      "source": [
        "## Imputing values\n",
        "\n"
      ],
      "metadata": {
        "id": "xIGwOfZUp7av"
      },
      "id": "xIGwOfZUp7av"
    },
    {
      "cell_type": "code",
      "source": [
        "@component(packages_to_install=[\"pandas\", \"numpy\", \"scikit-learn\", \"scipy\", \"joblib\",\"fsspec\", \"gcsfs\"])\n",
        "def impute_median_validation(\n",
        "        validation_dataset_path: InputPath('Dataset'),\n",
        "        median_path: str,  # medians from training\n",
        "        scaler_path: str,  # scaler from training\n",
        "        imputed_validation_dataset_path: OutputPath('Dataset'),\n",
        "        FS_dataset_path: str):\n",
        "\n",
        "\n",
        "    import pandas as pd\n",
        "    import numpy as np\n",
        "    from sklearn.preprocessing import StandardScaler\n",
        "    import joblib\n",
        "    import gcsfs\n",
        "\n",
        "    # Load the validation dataset\n",
        "    df = pd.read_csv(validation_dataset_path)\n",
        "\n",
        "    df['cigsPerDay']=df['cigsPerDay'].fillna(20)\n",
        "    df['BPMeds']=df['BPMeds'].fillna(1)\n",
        "\n",
        "    # Load the median values from the training dataset\n",
        "    median_df=pd.read_csv(median_path)\n",
        "\n",
        "\n",
        "    # Fill in the missing values with the median values\n",
        "    # Iterate over columns in the test dataset\n",
        "    for column in median_df['Column']:\n",
        "        # Retrieve the median value for the current column\n",
        "        median_value = median_df.loc[median_df['Column'] == column, 'Median'].values[0]\n",
        "        # Fill missing values in the test dataset with the median value\n",
        "        df[column] = df[column].fillna(median_value)\n",
        "\n",
        "    # Drop the remaining missing values\n",
        "    df.dropna(inplace=True)\n",
        "# Load the list of selected feature names from the training dataset\n",
        "    # Create a GCS file system object\n",
        "    fs = gcsfs.GCSFileSystem()\n",
        "\n",
        "    with fs.open(FS_dataset_path, 'rb') as f:\n",
        "        selected_features_names = joblib.load(f)\n",
        "    #scale_feature=selected_features_names\n",
        "    #selected_features_names.append('patientID')\n",
        "    # Select the same features in the test dataset as selected in the training dataset\n",
        "    selected_test_df=df\n",
        "\n",
        "    # Drop the remaining missing values\n",
        "    selected_test_df.dropna(inplace=True)\n",
        "    # Load the scaler\n",
        "    # Create a GCS file system object\n",
        "    fs = gcsfs.GCSFileSystem()\n",
        "\n",
        "    with fs.open(scaler_path, 'rb') as f:\n",
        "        scaler = joblib.load(f)\n",
        "\n",
        "    X_test=selected_test_df\n",
        "\n",
        "    X_test_scaled_array=scaler.transform(X_test)\n",
        "\n",
        "    X_test_scaled=pd.DataFrame(X_test_scaled_array, columns=X_test.columns)\n",
        "\n",
        "    selected_test_df.reset_index(drop=True, inplace=True)\n",
        "    df.reset_index(drop=True, inplace=True)\n",
        "\n",
        "    selected_test_df=pd.concat([X_test_scaled[selected_features_names],df['patientID']],axis=1)\n",
        "\n",
        "\n",
        "\n",
        "\n",
        "    # Save the imputed dataframe to the output path\n",
        "    selected_test_df.to_csv(imputed_validation_dataset_path, index=False)\n"
      ],
      "metadata": {
        "id": "v7wgWKhqqUAS",
        "executionInfo": {
          "status": "ok",
          "timestamp": 1715044015400,
          "user_tz": 420,
          "elapsed": 277,
          "user": {
            "displayName": "",
            "userId": ""
          }
        },
        "colab": {
          "base_uri": "https://localhost:8080/"
        },
        "outputId": "fdd668a1-9ece-4773-cd6e-ae653ef86080"
      },
      "id": "v7wgWKhqqUAS",
      "execution_count": null,
      "outputs": [
        {
          "output_type": "stream",
          "name": "stderr",
          "text": [
            "/usr/local/lib/python3.10/dist-packages/kfp/dsl/component_decorator.py:119: FutureWarning: Python 3.7 has reached end-of-life. The default base_image used by the @dsl.component decorator will switch from 'python:3.7' to 'python:3.8' on April 23, 2024. To ensure your existing components work with versions of the KFP SDK released after that date, you should provide an explicit base_image argument and ensure your component works as intended on Python 3.8.\n",
            "  return component_factory.create_component_from_func(\n"
          ]
        }
      ]
    },
    {
      "cell_type": "markdown",
      "source": [
        "## Predicitons"
      ],
      "metadata": {
        "id": "yrhoFXDdvOb3"
      },
      "id": "yrhoFXDdvOb3"
    },
    {
      "cell_type": "code",
      "source": [
        "@component(packages_to_install=[\"pandas\", \"numpy\", \"scikit-learn\", \"joblib\", \"fsspec\", \"gcsfs\"])\n",
        "def perform_predictions(dataset_for_prediction_path: InputPath('Dataset'),\n",
        "                   model_path: str,\n",
        "                   predictions_path: OutputPath('Dataset')):\n",
        "\n",
        "    import pandas as pd\n",
        "    import joblib\n",
        "    import gcsfs\n",
        "\n",
        "    # Create a GCS file system object\n",
        "    fs = gcsfs.GCSFileSystem()\n",
        "\n",
        "    # Load the trained model\n",
        "    with fs.open(model_path, 'rb') as f:\n",
        "      trained_model = joblib.load(f)\n",
        "\n",
        "    # Load the test dataset\n",
        "    pred_df = pd.read_csv(dataset_for_prediction_path)\n",
        "\n",
        "    final_df=pred_df\n",
        "\n",
        "    # Drop the patientID column\n",
        "    pred_df1=pred_df.iloc[:,0:10]\n",
        "\n",
        "\n",
        "    # Make predictions\n",
        "    y_pred = trained_model.predict(pred_df1)\n",
        "    final_df['TenYearCHD'] = y_pred\n",
        "    final_df=final_df[['patientID','TenYearCHD']]\n",
        "\n",
        "    # Save the predictions\n",
        "    final_df.to_csv(predictions_path, index=False)"
      ],
      "metadata": {
        "id": "ERfsvC0wtOL-"
      },
      "id": "ERfsvC0wtOL-",
      "execution_count": null,
      "outputs": []
    },
    {
      "cell_type": "markdown",
      "source": [
        "# Define Pipeline"
      ],
      "metadata": {
        "id": "D4QKhidFue74"
      },
      "id": "D4QKhidFue74"
    },
    {
      "cell_type": "code",
      "source": [
        "features_path= \"gs://heart_prediction/757245801734/heart-disease-prediction-pipeline-20240507023953/impute-median-training_-2540672785663918080/features\"\n",
        "median= \"gs://heart_prediction/757245801734/heart-disease-prediction-pipeline-20240507023953/impute-median-training_-2540672785663918080/median\"\n",
        "scaler_path= \"gs://heart_prediction/757245801734/heart-disease-prediction-pipeline-20240507023953/impute-median-training_-2540672785663918080/scaler_path\"\n",
        "#logistic model= \"gs://heart_prediction/757245801734/heart-disease-prediction-pipeline-20240504043722/train-logistic-regression_-3582196170191011840/trained_model_artifact/model.joblib\"\n",
        "#knn model=\"gs://heart_prediction/757245801734/heart-disease-prediction-pipeline-20240504043722/train-knn_5641175866663763968/trained_model_artifact/model.joblib\"\n",
        "#NB model=\"gs://heart_prediction/757245801734/heart-disease-prediction-pipeline-20240507023953/train-naive-bayes_4809201806204731392/trained_model_artifact/model.joblib\"\n",
        "model=\"gs://heart_prediction/757245801734/heart-disease-prediction-pipeline-20240507023953/train-random-forest_-4414170230650044416/trained_model_artifact/model.joblib\"\n",
        "# voting model=\"gs://heart_prediction/757245801734/heart-disease-prediction-pipeline-20240503004309/train-random-forest_8381106066523422720/trained_model_artifact/model.joblib\"\n",
        "@pipeline(name='vs-heart_predictions-inference-pipeline')\n",
        "def heart_disease_prediction_pipeline(dataset_for_predictions_path: str,\n",
        "                               features_uri: str = features_path,\n",
        "                               median_uri:  str = median,\n",
        "                               scaler_uri:  str = scaler_path,\n",
        "                               model_uri: str = model):\n",
        "\n",
        "    # Process dataset - initial data preparation\n",
        "    initial_prepared_dataset = perform_initial_data_preparation(input_dataset_path=dataset_for_predictions_path)\n",
        "\n",
        "    # Impute\n",
        "    imputed_dataset = impute_median_validation(\n",
        "       validation_dataset_path=initial_prepared_dataset.outputs['output_dataset_path'],\n",
        "       median_path= median_uri,\n",
        "       FS_dataset_path=features_uri,\n",
        "       scaler_path=scaler_uri\n",
        "\n",
        "    )\n",
        "\n",
        "    perform_predictions(\n",
        "        dataset_for_prediction_path=imputed_dataset.outputs['imputed_validation_dataset_path'],model_path=model_uri,predictions_path=\"gs://heart_prediction/m_pred.csv\")\n"
      ],
      "metadata": {
        "id": "zEuVZSrPuh67",
        "executionInfo": {
          "status": "error",
          "timestamp": 1715057117343,
          "user_tz": 420,
          "elapsed": 241,
          "user": {
            "displayName": "",
            "userId": ""
          }
        },
        "colab": {
          "base_uri": "https://localhost:8080/",
          "height": 407
        },
        "outputId": "cc4fa3ec-c083-450c-a20e-a5f850679ebf"
      },
      "id": "zEuVZSrPuh67",
      "execution_count": null,
      "outputs": [
        {
          "output_type": "error",
          "ename": "TypeError",
          "evalue": "perform-predictions() got an unexpected keyword argument \"predictions_path\".",
          "traceback": [
            "\u001b[0;31m---------------------------------------------------------------------------\u001b[0m",
            "\u001b[0;31mTypeError\u001b[0m                                 Traceback (most recent call last)",
            "\u001b[0;32m<ipython-input-25-43f02187063d>\u001b[0m in \u001b[0;36m<cell line: 9>\u001b[0;34m()\u001b[0m\n\u001b[1;32m      8\u001b[0m \u001b[0;31m# voting model=\"gs://heart_prediction/757245801734/heart-disease-prediction-pipeline-20240503004309/train-random-forest_8381106066523422720/trained_model_artifact/model.joblib\"\u001b[0m\u001b[0;34m\u001b[0m\u001b[0;34m\u001b[0m\u001b[0m\n\u001b[1;32m      9\u001b[0m \u001b[0;34m@\u001b[0m\u001b[0mpipeline\u001b[0m\u001b[0;34m(\u001b[0m\u001b[0mname\u001b[0m\u001b[0;34m=\u001b[0m\u001b[0;34m'vs-heart_predictions-inference-pipeline'\u001b[0m\u001b[0;34m)\u001b[0m\u001b[0;34m\u001b[0m\u001b[0;34m\u001b[0m\u001b[0m\n\u001b[0;32m---> 10\u001b[0;31m def heart_disease_prediction_pipeline(dataset_for_predictions_path: str,\n\u001b[0m\u001b[1;32m     11\u001b[0m                                \u001b[0mfeatures_uri\u001b[0m\u001b[0;34m:\u001b[0m \u001b[0mstr\u001b[0m \u001b[0;34m=\u001b[0m \u001b[0mfeatures_path\u001b[0m\u001b[0;34m,\u001b[0m\u001b[0;34m\u001b[0m\u001b[0;34m\u001b[0m\u001b[0m\n\u001b[1;32m     12\u001b[0m                                \u001b[0mmedian_uri\u001b[0m\u001b[0;34m:\u001b[0m  \u001b[0mstr\u001b[0m \u001b[0;34m=\u001b[0m \u001b[0mmedian\u001b[0m\u001b[0;34m,\u001b[0m\u001b[0;34m\u001b[0m\u001b[0;34m\u001b[0m\u001b[0m\n",
            "\u001b[0;32m/usr/local/lib/python3.10/dist-packages/kfp/dsl/pipeline_context.py\u001b[0m in \u001b[0;36mpipeline\u001b[0;34m(func, name, description, pipeline_root, display_name)\u001b[0m\n\u001b[1;32m     63\u001b[0m         \u001b[0mfunc\u001b[0m\u001b[0;34m.\u001b[0m\u001b[0mpipeline_root\u001b[0m \u001b[0;34m=\u001b[0m \u001b[0mpipeline_root\u001b[0m\u001b[0;34m\u001b[0m\u001b[0;34m\u001b[0m\u001b[0m\n\u001b[1;32m     64\u001b[0m \u001b[0;34m\u001b[0m\u001b[0m\n\u001b[0;32m---> 65\u001b[0;31m     return component_factory.create_graph_component_from_func(\n\u001b[0m\u001b[1;32m     66\u001b[0m         \u001b[0mfunc\u001b[0m\u001b[0;34m,\u001b[0m\u001b[0;34m\u001b[0m\u001b[0;34m\u001b[0m\u001b[0m\n\u001b[1;32m     67\u001b[0m         \u001b[0mname\u001b[0m\u001b[0;34m=\u001b[0m\u001b[0mname\u001b[0m\u001b[0;34m,\u001b[0m\u001b[0;34m\u001b[0m\u001b[0;34m\u001b[0m\u001b[0m\n",
            "\u001b[0;32m/usr/local/lib/python3.10/dist-packages/kfp/dsl/component_factory.py\u001b[0m in \u001b[0;36mcreate_graph_component_from_func\u001b[0;34m(func, name, description, display_name)\u001b[0m\n\u001b[1;32m    671\u001b[0m         \u001b[0mname\u001b[0m\u001b[0;34m=\u001b[0m\u001b[0mname\u001b[0m\u001b[0;34m,\u001b[0m\u001b[0;34m\u001b[0m\u001b[0;34m\u001b[0m\u001b[0m\n\u001b[1;32m    672\u001b[0m     )\n\u001b[0;32m--> 673\u001b[0;31m     return graph_component.GraphComponent(\n\u001b[0m\u001b[1;32m    674\u001b[0m         \u001b[0mcomponent_spec\u001b[0m\u001b[0;34m=\u001b[0m\u001b[0mcomponent_spec\u001b[0m\u001b[0;34m,\u001b[0m\u001b[0;34m\u001b[0m\u001b[0;34m\u001b[0m\u001b[0m\n\u001b[1;32m    675\u001b[0m         \u001b[0mpipeline_func\u001b[0m\u001b[0;34m=\u001b[0m\u001b[0mfunc\u001b[0m\u001b[0;34m,\u001b[0m\u001b[0;34m\u001b[0m\u001b[0;34m\u001b[0m\u001b[0m\n",
            "\u001b[0;32m/usr/local/lib/python3.10/dist-packages/kfp/dsl/graph_component.py\u001b[0m in \u001b[0;36m__init__\u001b[0;34m(self, component_spec, pipeline_func, display_name)\u001b[0m\n\u001b[1;32m     56\u001b[0m         with pipeline_context.Pipeline(\n\u001b[1;32m     57\u001b[0m                 self.component_spec.name) as dsl_pipeline:\n\u001b[0;32m---> 58\u001b[0;31m             \u001b[0mpipeline_outputs\u001b[0m \u001b[0;34m=\u001b[0m \u001b[0mpipeline_func\u001b[0m\u001b[0;34m(\u001b[0m\u001b[0;34m*\u001b[0m\u001b[0margs_list\u001b[0m\u001b[0;34m)\u001b[0m\u001b[0;34m\u001b[0m\u001b[0;34m\u001b[0m\u001b[0m\n\u001b[0m\u001b[1;32m     59\u001b[0m \u001b[0;34m\u001b[0m\u001b[0m\n\u001b[1;32m     60\u001b[0m         \u001b[0;32mif\u001b[0m \u001b[0;32mnot\u001b[0m \u001b[0mdsl_pipeline\u001b[0m\u001b[0;34m.\u001b[0m\u001b[0mtasks\u001b[0m\u001b[0;34m:\u001b[0m\u001b[0;34m\u001b[0m\u001b[0;34m\u001b[0m\u001b[0m\n",
            "\u001b[0;32m<ipython-input-25-43f02187063d>\u001b[0m in \u001b[0;36mheart_disease_prediction_pipeline\u001b[0;34m(dataset_for_predictions_path, features_uri, median_uri, scaler_uri, model_uri)\u001b[0m\n\u001b[1;32m     26\u001b[0m     )\n\u001b[1;32m     27\u001b[0m \u001b[0;34m\u001b[0m\u001b[0m\n\u001b[0;32m---> 28\u001b[0;31m     perform_predictions(\n\u001b[0m\u001b[1;32m     29\u001b[0m         dataset_for_prediction_path=imputed_dataset.outputs['imputed_validation_dataset_path'],model_path=model_uri,predictions_path=\"gs://heart_prediction/m_pred.csv\")\n\u001b[1;32m     30\u001b[0m \u001b[0;34m\u001b[0m\u001b[0m\n",
            "\u001b[0;32m/usr/local/lib/python3.10/dist-packages/kfp/dsl/base_component.py\u001b[0m in \u001b[0;36m__call__\u001b[0;34m(self, *args, **kwargs)\u001b[0m\n\u001b[1;32m     81\u001b[0m         \u001b[0;32mfor\u001b[0m \u001b[0mk\u001b[0m\u001b[0;34m,\u001b[0m \u001b[0mv\u001b[0m \u001b[0;32min\u001b[0m \u001b[0mkwargs\u001b[0m\u001b[0;34m.\u001b[0m\u001b[0mitems\u001b[0m\u001b[0;34m(\u001b[0m\u001b[0;34m)\u001b[0m\u001b[0;34m:\u001b[0m\u001b[0;34m\u001b[0m\u001b[0;34m\u001b[0m\u001b[0m\n\u001b[1;32m     82\u001b[0m             \u001b[0;32mif\u001b[0m \u001b[0mk\u001b[0m \u001b[0;32mnot\u001b[0m \u001b[0;32min\u001b[0m \u001b[0mself\u001b[0m\u001b[0;34m.\u001b[0m\u001b[0m_component_inputs\u001b[0m\u001b[0;34m:\u001b[0m\u001b[0;34m\u001b[0m\u001b[0;34m\u001b[0m\u001b[0m\n\u001b[0;32m---> 83\u001b[0;31m                 raise TypeError(\n\u001b[0m\u001b[1;32m     84\u001b[0m                     f'{self.name}() got an unexpected keyword argument \"{k}\".')\n\u001b[1;32m     85\u001b[0m             \u001b[0mtask_inputs\u001b[0m\u001b[0;34m[\u001b[0m\u001b[0mk\u001b[0m\u001b[0;34m]\u001b[0m \u001b[0;34m=\u001b[0m \u001b[0mv\u001b[0m\u001b[0;34m\u001b[0m\u001b[0;34m\u001b[0m\u001b[0m\n",
            "\u001b[0;31mTypeError\u001b[0m: perform-predictions() got an unexpected keyword argument \"predictions_path\"."
          ]
        }
      ]
    },
    {
      "cell_type": "code",
      "source": [
        "\n",
        "from kfp.v2 import compiler\n",
        "\n",
        "# Compile the pipeline\n",
        "\n",
        "compiler.Compiler().compile(\n",
        "    pipeline_func=heart_disease_prediction_pipeline,\n",
        "    package_path=\"heart_disease_prediction_pipeline.json\"\n",
        ")\n",
        "\n",
        "pipeline_job = aiplatform.PipelineJob(\n",
        "    display_name='heart_disease_prediction',\n",
        "    template_path='heart_disease_prediction_pipeline.json',\n",
        "    pipeline_root='gs://heart_prediction',\n",
        "    parameter_values={\n",
        "      'dataset_for_predictions_path':'gs://heart_prediction/Final Project Evaluation Dataset - Student(1) (1).csv'\n",
        "    },\n",
        "    enable_caching=True\n",
        ")\n",
        "\n",
        "pipeline_job.run()"
      ],
      "metadata": {
        "colab": {
          "base_uri": "https://localhost:8080/"
        },
        "id": "KPVNl2Svv5oe",
        "executionInfo": {
          "status": "ok",
          "timestamp": 1715052870370,
          "user_tz": 420,
          "elapsed": 68138,
          "user": {
            "displayName": "",
            "userId": ""
          }
        },
        "outputId": "bcfb300d-2a4c-40f5-9cb3-1190da9d8eb7"
      },
      "id": "KPVNl2Svv5oe",
      "execution_count": null,
      "outputs": [
        {
          "output_type": "stream",
          "name": "stderr",
          "text": [
            "INFO:google.cloud.aiplatform.pipeline_jobs:Creating PipelineJob\n",
            "INFO:google.cloud.aiplatform.pipeline_jobs:PipelineJob created. Resource name: projects/757245801734/locations/us-central1/pipelineJobs/vs-heart-predictions-inference-pipeline-20240507033322\n",
            "INFO:google.cloud.aiplatform.pipeline_jobs:To use this PipelineJob in another session:\n",
            "INFO:google.cloud.aiplatform.pipeline_jobs:pipeline_job = aiplatform.PipelineJob.get('projects/757245801734/locations/us-central1/pipelineJobs/vs-heart-predictions-inference-pipeline-20240507033322')\n",
            "INFO:google.cloud.aiplatform.pipeline_jobs:View Pipeline Job:\n",
            "https://console.cloud.google.com/vertex-ai/locations/us-central1/pipelines/runs/vs-heart-predictions-inference-pipeline-20240507033322?project=757245801734\n",
            "INFO:google.cloud.aiplatform.pipeline_jobs:PipelineJob projects/757245801734/locations/us-central1/pipelineJobs/vs-heart-predictions-inference-pipeline-20240507033322 current state:\n",
            "PipelineState.PIPELINE_STATE_RUNNING\n",
            "INFO:google.cloud.aiplatform.pipeline_jobs:PipelineJob projects/757245801734/locations/us-central1/pipelineJobs/vs-heart-predictions-inference-pipeline-20240507033322 current state:\n",
            "PipelineState.PIPELINE_STATE_RUNNING\n",
            "INFO:google.cloud.aiplatform.pipeline_jobs:PipelineJob projects/757245801734/locations/us-central1/pipelineJobs/vs-heart-predictions-inference-pipeline-20240507033322 current state:\n",
            "PipelineState.PIPELINE_STATE_RUNNING\n",
            "INFO:google.cloud.aiplatform.pipeline_jobs:PipelineJob run completed. Resource name: projects/757245801734/locations/us-central1/pipelineJobs/vs-heart-predictions-inference-pipeline-20240507033322\n"
          ]
        }
      ]
    }
  ],
  "metadata": {
    "kernelspec": {
      "display_name": "Python 3",
      "language": "python",
      "name": "python3"
    },
    "language_info": {
      "codemirror_mode": {
        "name": "ipython",
        "version": 3
      },
      "file_extension": ".py",
      "mimetype": "text/x-python",
      "name": "python",
      "nbconvert_exporter": "python",
      "pygments_lexer": "ipython3",
      "version": "3.10.10"
    },
    "colab": {
      "provenance": [],
      "name": "Final inferencee"
    }
  },
  "nbformat": 4,
  "nbformat_minor": 5
}